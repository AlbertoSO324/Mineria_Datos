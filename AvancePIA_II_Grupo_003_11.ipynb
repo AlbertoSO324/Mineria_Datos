{
 "cells": [
  {
   "cell_type": "markdown",
   "metadata": {},
   "source": [
    "# Segundo avance del PIA\n",
    "\n",
    "### Grupo\n",
    "\n",
    "### Equipo 11"
   ]
  },
  {
   "cell_type": "markdown",
   "metadata": {},
   "source": [
    "Hector Yair Garza Amaya, 1860264\n",
    "\n",
    "Brandon Daniel Alsina Rodriguez, 1960776\n",
    "\n",
    "Sebastian Gonzalez Curiel, 1941456\n",
    "\n",
    "Alberto Saucedo Orozco, 1735567"
   ]
  },
  {
   "cell_type": "markdown",
   "metadata": {},
   "source": [
    "# Título de la base de datos"
   ]
  },
  {
   "cell_type": "markdown",
   "metadata": {},
   "source": [
    "### a) Nombre en la página"
   ]
  },
  {
   "cell_type": "markdown",
   "metadata": {},
   "source": [
    "COVID-19 Database"
   ]
  },
  {
   "cell_type": "markdown",
   "metadata": {},
   "source": [
    "### b) URL de la página"
   ]
  },
  {
   "cell_type": "markdown",
   "metadata": {},
   "source": [
    "https://www.kaggle.com/imdevskp/corona-virus-report?fbclid=IwAR14Y2QS1jPRAMr6j3t3oss_CiaimjBqXPKizvBbZBQyZorcbd2ke0ocZlA"
   ]
  },
  {
   "cell_type": "markdown",
   "metadata": {},
   "source": [
    "# Descripción de los datos"
   ]
  },
  {
   "cell_type": "markdown",
   "metadata": {},
   "source": [
    "### a) Tipo de datos"
   ]
  },
  {
   "cell_type": "markdown",
   "metadata": {},
   "source": [
    "Los datos contenidos en nuestra base son tablas las cuales contienen datos numéricos de la pandemia COVID-19."
   ]
  },
  {
   "cell_type": "markdown",
   "metadata": {},
   "source": [
    "### b) Descripción de las columnas"
   ]
  },
  {
   "cell_type": "markdown",
   "metadata": {},
   "source": [
    "**País**\n",
    "\n",
    "País de donde se toma la información.\n",
    "\n",
    "**Continente**\n",
    "\n",
    "Continente en donde se encuentra el país analizado.\n",
    "\n",
    "**Población**\n",
    "\n",
    "Número de habitantes del país seleccionado.\n",
    "\n",
    "**CasosTotales**\n",
    "\n",
    "Cantidad de personas contagiadas en este país.\n",
    "\n",
    "**MuertesTotales**\n",
    "\n",
    "Número de individuos que fallecieron a causa de la enfermedad en esta región.\n",
    "\n",
    "**RecuperadosTotales**\n",
    "\n",
    "Población del país que se a recuperado del virus.\n",
    "\n",
    "**CasosActivos**\n",
    "\n",
    "Personas aún contagiadas en el país en cuestión.\n",
    "\n",
    "**CasosCríticos**\n",
    "\n",
    "Número de personas en estado grave en el país seleccionado.\n",
    "\n",
    "**TestTotales**\n",
    "\n",
    "Cantidad de Pruebas-COVID realizadas en esta región."
   ]
  },
  {
   "cell_type": "markdown",
   "metadata": {},
   "source": [
    "# Justificación de los datos"
   ]
  },
  {
   "cell_type": "markdown",
   "metadata": {},
   "source": [
    "Las razones principales por las cuales quisimos trabajar con estos datos fueron porque como en la actualidad la pandemia del COVID-19 está afectando a todo el mundo, nos pareció relevante realizar algún tipo de estudio o investigación de estos y llegar a conclusiones de como se ha estado desarrollando esta pandemia y que países han lidiado mejor con esta y por qué."
   ]
  },
  {
   "cell_type": "markdown",
   "metadata": {},
   "source": [
    "### b) ¿Qué beneficio encontramos al trabajar con estos datos?"
   ]
  },
  {
   "cell_type": "markdown",
   "metadata": {},
   "source": [
    "El beneficio que encontramos al trabajar con esta base es que los datos que principalmente manejamos son numéricos, lo que implica un manejo mas sencillo de ellos comparando con datos alfanuméricos o de tipo “string”. Además, estos datos se encuentran convenientemente clasificados por región, lo que nos facilitará hacer nuevos cálculos o modificar los datos existentes con facilidad."
   ]
  },
  {
   "cell_type": "markdown",
   "metadata": {},
   "source": [
    "# Objetivo final"
   ]
  },
  {
   "cell_type": "markdown",
   "metadata": {},
   "source": [
    "### a) Objetivo principal"
   ]
  },
  {
   "cell_type": "markdown",
   "metadata": {},
   "source": [
    "Como objetivo principal tenemos planeado realizar una comparativa de los países mas afectados contra los menos afectados por la pandemia COVID-19 y llegar a conclusiones del porque a unos países les afecto mas que a otros e identificar los factores que estuvieron involucrados para llegar a dichas conclusiones."
   ]
  },
  {
   "cell_type": "markdown",
   "metadata": {},
   "source": [
    "# Mencionar preguntas de interés"
   ]
  },
  {
   "cell_type": "markdown",
   "metadata": {},
   "source": [
    "### a) Planteo de preguntas de interes"
   ]
  },
  {
   "cell_type": "markdown",
   "metadata": {},
   "source": [
    "1.-¿Qué continente se vio mayormente afectado por la pandemia?\n",
    "\n",
    "2.-¿Qué continente se vio menormente afectado por la pandemia?\n",
    "\n",
    "3.-¿Cuántas pruebas COVID se realizaron en promedio por continente?\n",
    "\n",
    "4.-¿Cuál es el ratio de contagio-recuperación y contagio-muerte de los países?"
   ]
  },
  {
   "cell_type": "markdown",
   "metadata": {},
   "source": [
    "# Limpieza de datos"
   ]
  },
  {
   "cell_type": "markdown",
   "metadata": {},
   "source": [
    "Se importan librerias requeridasSe importan librerias requeridas"
   ]
  },
  {
   "cell_type": "code",
   "execution_count": 2,
   "metadata": {},
   "outputs": [],
   "source": [
    "import pandas \n",
    "import numpy \n",
    "import json"
   ]
  },
  {
   "cell_type": "markdown",
   "metadata": {},
   "source": [
    "### Base de datos"
   ]
  },
  {
   "cell_type": "markdown",
   "metadata": {},
   "source": [
    "Se realiza la lectura del archivo"
   ]
  },
  {
   "cell_type": "code",
   "execution_count": 3,
   "metadata": {},
   "outputs": [
    {
     "ename": "SyntaxError",
     "evalue": "unexpected character after line continuation character (<ipython-input-3-c3be95d77253>, line 1)",
     "output_type": "error",
     "traceback": [
      "\u001b[1;36m  File \u001b[1;32m\"<ipython-input-3-c3be95d77253>\"\u001b[1;36m, line \u001b[1;32m1\u001b[0m\n\u001b[1;33m    show=pandas.read_csv(r\\\"C:\\\\Users\\\\hecto\\\\Downloads\\\\worldometer_data.csv\\\")\u001b[0m\n\u001b[1;37m                                                                                ^\u001b[0m\n\u001b[1;31mSyntaxError\u001b[0m\u001b[1;31m:\u001b[0m unexpected character after line continuation character\n"
     ]
    }
   ],
   "source": [
    "show=pandas.read_csv(r\\\"C:\\\\Users\\\\hecto\\\\Downloads\\\\worldometer_data.csv\\\")"
   ]
  },
  {
   "cell_type": "markdown",
   "metadata": {},
   "source": [
    "### Visualizacion de datos"
   ]
  },
  {
   "cell_type": "markdown",
   "metadata": {},
   "source": [
    "Vista previa de la base de datos"
   ]
  },
  {
   "cell_type": "code",
   "execution_count": null,
   "metadata": {},
   "outputs": [],
   "source": [
    "show.head(30)"
   ]
  },
  {
   "cell_type": "markdown",
   "metadata": {},
   "source": [
    "Realizamos un conteo previo de filas y columnas"
   ]
  },
  {
   "cell_type": "code",
   "execution_count": null,
   "metadata": {},
   "outputs": [],
   "source": [
    "print (show.shape)"
   ]
  },
  {
   "cell_type": "markdown",
   "metadata": {},
   "source": [
    "### Descripción de columnas"
   ]
  },
  {
   "cell_type": "markdown",
   "metadata": {},
   "source": [
    "Visualizamos los nombres de las columnas "
   ]
  },
  {
   "cell_type": "code",
   "execution_count": null,
   "metadata": {},
   "outputs": [],
   "source": [
    "show.columns"
   ]
  },
  {
   "cell_type": "markdown",
   "metadata": {},
   "source": [
    "Identificamos que tipo de datos están contenidos en las columnas"
   ]
  },
  {
   "cell_type": "code",
   "execution_count": null,
   "metadata": {},
   "outputs": [],
   "source": [
    "show.dtypes"
   ]
  },
  {
   "cell_type": "markdown",
   "metadata": {},
   "source": [
    "Identificamos que columnas tienen datos nulos "
   ]
  },
  {
   "cell_type": "code",
   "execution_count": null,
   "metadata": {},
   "outputs": [],
   "source": [
    "show.isnull().any()"
   ]
  },
  {
   "cell_type": "markdown",
   "metadata": {},
   "source": [
    "### Clasificación de datos"
   ]
  },
  {
   "cell_type": "markdown",
   "metadata": {},
   "source": [
    "Ejemplos de los datos contenidos en las columnas"
   ]
  },
  {
   "cell_type": "code",
   "execution_count": null,
   "metadata": {},
   "outputs": [],
   "source": [
    "show.TotalCases.unique()"
   ]
  },
  {
   "cell_type": "code",
   "execution_count": null,
   "metadata": {},
   "outputs": [],
   "source": [
    "show.NewCases.unique()"
   ]
  },
  {
   "cell_type": "markdown",
   "metadata": {},
   "source": [
    "### Cambio de nombres de las columnas"
   ]
  },
  {
   "cell_type": "markdown",
   "metadata": {},
   "source": [
    "Se eliminaron las columnas que consideramos innecesarias o que tuvieran muchos datos nulos"
   ]
  },
  {
   "cell_type": "code",
   "execution_count": null,
   "metadata": {},
   "outputs": [],
   "source": [
    "del(show['Tests/1M pop'])\n",
    "del(show['WHO Region'])\n",
    "del(show['Deaths/1M pop'])\n",
    "del(show['Tot Cases/1M pop'])\n",
    "del(show['NewDeaths'])\n",
    "del(show['NewCases'])\n",
    "del(show['NewRecovered'])\n",
    "show"
   ]
  },
  {
   "cell_type": "markdown",
   "metadata": {},
   "source": [
    "Cambiamos los nombres de las columnas a español para mayor facilidad en la interpretación de los datos "
   ]
  },
  {
   "cell_type": "code",
   "execution_count": null,
   "metadata": {},
   "outputs": [],
   "source": [
    "show.rename(columns = {'Country/Region':'País','Continent':'Continente','Population':'Población','TotalCases':'CasosTotales','TotalDeaths':'MuertesTotales','TotalRecovered':'RecuperadosTotales','ActiveCases':'CasosActivos','Serious,Critical':'CasosCríticos','TotalTests':'TestTotales'},inplace=True)\n",
    "show"
   ]
  },
  {
   "cell_type": "markdown",
   "metadata": {},
   "source": [
    "Para finalizar, guardamos la nueva base de datos con el nombre de COVID-19"
   ]
  },
  {
   "cell_type": "code",
   "execution_count": null,
   "metadata": {},
   "outputs": [],
   "source": [
    "show.to_csv(\\\"COVID-19\\\",index=False)"
   ]
  },
  {
   "cell_type": "markdown",
   "metadata": {},
   "source": [
    "# Visualizacion de datos"
   ]
  },
  {
   "cell_type": "code",
   "execution_count": null,
   "metadata": {},
   "outputs": [],
   "source": [
    "import pandas as pd\n",
    "import matplotlib as plt\n",
    "%matplotlib inline\n",
    "import seaborn as sns\n",
    "import matplotlib.pyplot as plt"
   ]
  },
  {
   "cell_type": "code",
   "execution_count": null,
   "metadata": {},
   "outputs": [],
   "source": [
    "rona=pd.read_csv(r\"C:\\Users\\hecto\\Downloads\\COVID-19\")"
   ]
  },
  {
   "cell_type": "code",
   "execution_count": null,
   "metadata": {},
   "outputs": [],
   "source": [
    "rona"
   ]
  },
  {
   "cell_type": "markdown",
   "metadata": {},
   "source": [
    "## Información estadística"
   ]
  },
  {
   "cell_type": "markdown",
   "metadata": {},
   "source": [
    "### Poblacion mundial estimada"
   ]
  },
  {
   "cell_type": "code",
   "execution_count": null,
   "metadata": {},
   "outputs": [],
   "source": [
    "rona['Población'].sum()"
   ]
  },
  {
   "cell_type": "markdown",
   "metadata": {},
   "source": [
    "La estimación del total de la población mundial nos va a ser de mucha utilidad para poder compararla con los otros índices que calcularemos y poder sacar porcentajes de distintos rubros como por ejemplo que porcentaje de la población mundial ha sido contagiada por Covid-19, cuantos de estos se recuperaron, cuantos de estos fallecieron, etc. En general esta estimación es necesaria para poder obtener todos los índices que buscamos descubrir."
   ]
  },
  {
   "cell_type": "markdown",
   "metadata": {},
   "source": [
    "### Suma de fallecimientos"
   ]
  },
  {
   "cell_type": "code",
   "execution_count": null,
   "metadata": {},
   "outputs": [],
   "source": [
    "rona['MuertesTotales'].sum()"
   ]
  },
  {
   "cell_type": "markdown",
   "metadata": {},
   "source": [
    " La suma de todos los fallecimientos por Covid-19 a nivel mundial es un dato que es fundamental para nuestra investigación ya que este calculo nos ayudara a darnos cuenta de que tan fuerte ha sido el impacto que nos ha ocasionado esta enfermedad a nivel mundial en términos cuantitativos. En conjunto con la estimación de la población mundial, nos permitirá saber una estimación del porcentaje de humanos del mundo que han fallecido por Covid-19."
   ]
  },
  {
   "cell_type": "markdown",
   "metadata": {},
   "source": [
    "### Promedio de contagios (por region)"
   ]
  },
  {
   "cell_type": "code",
   "execution_count": null,
   "metadata": {},
   "outputs": [],
   "source": [
    "rona['CasosTotales'].mean()"
   ]
  },
  {
   "cell_type": "markdown",
   "metadata": {},
   "source": [
    "El cálculo del promedio de contagios de Covid-19 a nivel de países es un índice muy interesante para nuestra investigación ya que con este dato podremos hacer todo tipo de comparaciones de suma importancia que nos ayudaran a generar información de en qué países ha sido más duro el impacto de este virus, nos interesa visualizar que países están por debajo o por encima de la media de contagios y que tan lejos o cerca se encuentran de ese rubro."
   ]
  },
  {
   "cell_type": "markdown",
   "metadata": {},
   "source": [
    "### Promedio de las pruebas aplicadas (por región)"
   ]
  },
  {
   "cell_type": "code",
   "execution_count": null,
   "metadata": {},
   "outputs": [],
   "source": [
    "rona['CasosTotales'].mean()"
   ]
  },
  {
   "cell_type": "markdown",
   "metadata": {},
   "source": [
    "Es importante calcular un rubro que nos indique cual es el promedio de los test totales en los países. Este es un dato que nos interesa saber para darnos cuenta de que tanto varían las pruebas de Covid-19 en los países. Es de relevancia para visualizar si el bajo numero de contagios en algunos países puede deberse a falta de pruebas de la enfermedad."
   ]
  },
  {
   "cell_type": "markdown",
   "metadata": {},
   "source": [
    "### Cantidad máxima y minima de descesos de una region"
   ]
  },
  {
   "cell_type": "code",
   "execution_count": null,
   "metadata": {},
   "outputs": [],
   "source": [
    "rona['MuertesTotales'].max()"
   ]
  },
  {
   "cell_type": "code",
   "execution_count": null,
   "metadata": {},
   "outputs": [],
   "source": [
    "rona['MuertesTotales'].min()"
   ]
  },
  {
   "cell_type": "markdown",
   "metadata": {},
   "source": [
    "El índice de máximo y mínimo lo utilizaremos en la columna de muertes totales por el virus Covid-19. Nos interesa calcular este rubro para darnos cuenta de cuanta diferencia existe entre el país que tiene mas muertes y el país que tiene menos muertes causadas por esta enfermedad. Este contraste nos parece muy interesante para poder visualizar que tan variado ha sido el impacto en distintos países del mundo."
   ]
  },
  {
   "cell_type": "markdown",
   "metadata": {},
   "source": [
    "## Información gráfica"
   ]
  },
  {
   "cell_type": "markdown",
   "metadata": {},
   "source": [
    "### Ratio de casos-muertes"
   ]
  },
  {
   "cell_type": "code",
   "execution_count": null,
   "metadata": {},
   "outputs": [],
   "source": [
    "rona.plot.scatter(x='CasosTotales', y='MuertesTotales', color='orange')"
   ]
  },
  {
   "cell_type": "markdown",
   "metadata": {},
   "source": [
    "En la gráfica anterior podemos visualizar el ratio de la relación de las muertes totales con respecto a los casos totales en los distintos países. Esto nos es de utilidad para ver el comportamiento de los países y determinar si la mayoría tienen un comportamiento similar o si el ratio es muy variado. Podemos apreciar que la mayoría de los datos están muy concentrados en la parte inferior izquierda, esto indica pocos contagios y pocas muertes, después se observan 3 datos aislados que se encuentran con tendencia hacia la esquina superior derecha, indicando más contagios y más muertes. Se puede apreciar que el ratio es similar en la mayoría de los países, solo hay algunos que si tienen un ratio mas preocupante con una tendencia mas alta en las muertes y mas baja en los casos."
   ]
  },
  {
   "cell_type": "markdown",
   "metadata": {},
   "source": [
    "### Recuperados de acuerdo al continente"
   ]
  },
  {
   "cell_type": "code",
   "execution_count": null,
   "metadata": {},
   "outputs": [],
   "source": [
    "#top = rona[rona.País.isin(rona.País.value_counts().head(5).index)]\n",
    "sns.boxplot(x='Continente', y='RecuperadosTotales', data=rona)"
   ]
  },
  {
   "cell_type": "markdown",
   "metadata": {},
   "source": [
    "Este tipo de gráfico es muy importante ya que refleja muy bien la dispersión de datos, lo que nos permite ver a profundidad, en este caso por continente, en cuales de estos se han recuperado más infectados por el virus y esto nos puede dar una idea de como se están manejando los tratamientos médicos y que tan efectivos son en las regiones globalmente"
   ]
  },
  {
   "cell_type": "markdown",
   "metadata": {},
   "source": [
    "### Cantidad de regiones con casos críticos menores a 100"
   ]
  },
  {
   "cell_type": "code",
   "execution_count": null,
   "metadata": {},
   "outputs": [],
   "source": [
    "rona[rona['CasosCríticos']<100]['CasosCríticos'].plot.hist(color='orange')"
   ]
  },
  {
   "cell_type": "markdown",
   "metadata": {},
   "source": [
    "En la grafica anterior se muestran la cantidad de regiones con tienen menos de 100 casos críticos, lo primero que podemos apreciar es que aproximadamente la mitad de las regiones que estamos investigando entran en el criterio de menos de 100 casos críticos. Posteriormente analizando este segmento, vemos que, de las regiones con menos de 100 casos críticos, la gran mayoría cuenta con 0 casos críticos. Esto nos indica que si una región tiene menos de 100 casos críticos lo mas probable es que esta región no cuente con ningún caso crítico."
   ]
  },
  {
   "cell_type": "markdown",
   "metadata": {},
   "source": [
    "### Gráficas de contagios, muertes y pruebas aplicadas de las 10 regiones con mas contagios"
   ]
  },
  {
   "cell_type": "code",
   "execution_count": null,
   "metadata": {},
   "outputs": [],
   "source": [
    "rona.head(10).plot.bar(x='País', y='CasosTotales', color='yellow')"
   ]
  },
  {
   "cell_type": "code",
   "execution_count": null,
   "metadata": {},
   "outputs": [],
   "source": [
    "rona.head(10).plot.bar(x='País', y='MuertesTotales', color='red')"
   ]
  },
  {
   "cell_type": "code",
   "execution_count": null,
   "metadata": {},
   "outputs": [],
   "source": [
    "rona.head(10).plot.bar(x='País', y='TestTotales', color='blue')"
   ]
  },
  {
   "cell_type": "markdown",
   "metadata": {},
   "source": [
    "En las graficas podemos observar los contagios, las muertes y las pruebas aplicadas de las 10 regiones con mas contagios. Lo más lógico es pensar que en los países donde se realizan más pruebas, habrá mas contagios y por consecuente mas muertes, esto aplica también en el sentido opuesto. Y esto es cierto en muchos casos, como por ejemplo EUA, es el país mas alto en los 3 rubros, pero hay algunas excepciones, por ejemplo, de los 10 países el que tiene menos contagios es España sin embargo es el país numero 5 con menos muertes cuando lo lógico seria pensar que seria el primero. También un caso raro es el de México ya que es el tercer país con mas muertes mas sin embargo es el sexto con más contagios y es de los más bajos en pruebas realizadas, esta es una situación para destacar ya que es muy rara. En general estas 3 graficas son muy importantes para este tipo de análisis, revisar que países de este top 10 se comportan de manera usual y cuales se comportan de manera inusual."
   ]
  },
  {
   "cell_type": "markdown",
   "metadata": {},
   "source": [
    "### Gráficas de contagios, muertes y pruebas aplicadas de las 10 regiones con menos contagios"
   ]
  },
  {
   "cell_type": "code",
   "execution_count": null,
   "metadata": {},
   "outputs": [],
   "source": [
    "rona.tail(10).plot.bar(x='País', y='CasosTotales', color='yellow')"
   ]
  },
  {
   "cell_type": "code",
   "execution_count": null,
   "metadata": {},
   "outputs": [],
   "source": [
    "rona.tail(10).plot.bar(x='País', y='MuertesTotales', color='red')"
   ]
  },
  {
   "cell_type": "code",
   "execution_count": null,
   "metadata": {},
   "outputs": [],
   "source": [
    "rona.tail(10).plot.bar(x='País', y='TestTotales', color='blue')"
   ]
  },
  {
   "cell_type": "markdown",
   "metadata": {},
   "source": [
    "Las anteriores 3 graficas son las muertes, contagios y pruebas realizadas del top 10 de países con menos contagios de Covid-19. Se aprecia que la región con menos contagios es Western Sahara sin embargo cuenta con una muerte por Covid-19 y esto es raro porque solo esta región y una mas cuentan con fallecidos en este top 10. También podemos observar que los 2 países con mas contagios son los 2 países que más pruebas realizan, este es un resultado usual. La mayoría de las otras regiones de este top casi no realizan ninguna prueba para detectar el contagio de Covid-19, esta puede ser la causa de los pocos contagios en estas regiones."
   ]
  },
  {
   "cell_type": "markdown",
   "metadata": {},
   "source": [
    "## Conclusión "
   ]
  },
  {
   "cell_type": "markdown",
   "metadata": {},
   "source": [
    "Lo primero fue determinar los índices que consideramos mas importantes para hacer los cálculos de la información que a nuestro criterio reflejaría lo que buscamos mostrar con nuestra base de datos. Los índices que calculamos fue la estimación de la población mundial, la suma de todos los fallecimientos por Covid-19 a nivel mundial, el calculo del promedio de contagios de Covid-19 a nivel de países, el índice de máximo y mínimo en el numero de muertes por Covid-19 en los países y el ultimo índice que calculamos fue el del promedio de las pruebas realizadas en los países. Todos estos cálculos van a ser de suma importancia en nuestra investigación para poder reflejar con porcentajes los puntos mas importantes del impacto que ha tenido el Covid-19 en nuestro planeta. Por ejemplo, el porcentaje de la población que se ha contagiado, cuantos se repusieron, cuantos fallecieron. También podremos visualizar cuantos países se encuentran por encima o por debajo de la media de contagios por país, que país tiene más y menos muertes y que tanta distancia hay entre estos 2, que países se encuentran por debajo o por encima de la media de pruebas realizadas. En general estos datos que para nosotros fueron los mas importantes nos van a servir para mostrar la información mas relevante de esta enfermedad. Posteriormente hicimos diversas graficas para visualizar de mejor manera distintos rubros que nos llamaron la atención como la comparación de contagios, muertes y pruebas realizadas del top 10 de países con mas contagios y el top 10 de países con menos contagios. De igual manera hicimos una grafica de la cantidad de regiones con menos de 100 casos críticos y por último hicimos un gráfico para mostrar la dispersión que existe en el numero de gente que se ha recuperado del Covid-19 por continente. A nuestro criterio estas graficas en conjunto con los índices que calculamos anteriormente, serán la clave para llegar al fondo de nuestra investigación y mostrar de la mejor manera posible toda la información que hemos recabado a lo largo de este tiempo y que el lector puede entender los puntos mas claves del impacto que ha tenido este enfermedad en la vida de todos nosotros y del mundo entero."
   ]
  },
  {
   "cell_type": "code",
   "execution_count": null,
   "metadata": {},
   "outputs": [],
   "source": []
  }
 ],
 "metadata": {
  "kernelspec": {
   "display_name": "Python 3",
   "language": "python",
   "name": "python3"
  },
  "language_info": {
   "codemirror_mode": {
    "name": "ipython",
    "version": 3
   },
   "file_extension": ".py",
   "mimetype": "text/x-python",
   "name": "python",
   "nbconvert_exporter": "python",
   "pygments_lexer": "ipython3",
   "version": "3.8.5"
  }
 },
 "nbformat": 4,
 "nbformat_minor": 4
}
