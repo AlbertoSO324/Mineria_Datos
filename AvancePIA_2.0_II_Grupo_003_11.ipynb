{
 "cells": [
  {
   "cell_type": "markdown",
   "metadata": {},
   "source": [
    "# Segundo avance del PIA\n",
    "\n",
    "### Grupo\n",
    "\n",
    "### Equipo 11"
   ]
  },
  {
   "cell_type": "markdown",
   "metadata": {},
   "source": [
    "Hector Yair Garza Amaya, 1860264\n",
    "\n",
    "Brandon Daniel Alsina Rodriguez, 1960776\n",
    "\n",
    "Sebastian Gonzalez Curiel, 1941456\n",
    "\n",
    "Alberto Saucedo Orozco, 1735567"
   ]
  },
  {
   "cell_type": "markdown",
   "metadata": {},
   "source": [
    "# Título de la base de datos"
   ]
  },
  {
   "cell_type": "markdown",
   "metadata": {},
   "source": [
    "### a) Nombre en la página"
   ]
  },
  {
   "cell_type": "markdown",
   "metadata": {},
   "source": [
    "COVID-19 Database"
   ]
  },
  {
   "cell_type": "markdown",
   "metadata": {},
   "source": [
    "### b) URL de la página"
   ]
  },
  {
   "cell_type": "markdown",
   "metadata": {},
   "source": [
    "https://www.kaggle.com/imdevskp/corona-virus-report?fbclid=IwAR14Y2QS1jPRAMr6j3t3oss_CiaimjBqXPKizvBbZBQyZorcbd2ke0ocZlA"
   ]
  },
  {
   "cell_type": "markdown",
   "metadata": {},
   "source": [
    "# Descripción de los datos"
   ]
  },
  {
   "cell_type": "markdown",
   "metadata": {},
   "source": [
    "### a) Tipo de datos"
   ]
  },
  {
   "cell_type": "markdown",
   "metadata": {},
   "source": [
    "Los datos contenidos en nuestra base son tablas las cuales contienen datos numéricos de la pandemia COVID-19."
   ]
  },
  {
   "cell_type": "markdown",
   "metadata": {},
   "source": [
    "### b) Descripción de las columnas"
   ]
  },
  {
   "cell_type": "markdown",
   "metadata": {},
   "source": [
    "**País**\n",
    "\n",
    "País de donde se toma la información.\n",
    "\n",
    "**Continente**\n",
    "\n",
    "Continente en donde se encuentra el país analizado.\n",
    "\n",
    "**Población**\n",
    "\n",
    "Número de habitantes del país seleccionado.\n",
    "\n",
    "**CasosTotales**\n",
    "\n",
    "Cantidad de personas contagiadas en este país.\n",
    "\n",
    "**MuertesTotales**\n",
    "\n",
    "Número de individuos que fallecieron a causa de la enfermedad en esta región.\n",
    "\n",
    "**RecuperadosTotales**\n",
    "\n",
    "Población del país que se a recuperado del virus.\n",
    "\n",
    "**CasosActivos**\n",
    "\n",
    "Personas aún contagiadas en el país en cuestión.\n",
    "\n",
    "**CasosCríticos**\n",
    "\n",
    "Número de personas en estado grave en el país seleccionado.\n",
    "\n",
    "**TestTotales**\n",
    "\n",
    "Cantidad de Pruebas-COVID realizadas en esta región."
   ]
  },
  {
   "cell_type": "markdown",
   "metadata": {},
   "source": [
    "# Justificación de los datos"
   ]
  },
  {
   "cell_type": "markdown",
   "metadata": {},
   "source": [
    "Las razones principales por las cuales quisimos trabajar con estos datos fueron porque como en la actualidad la pandemia del COVID-19 está afectando a todo el mundo, nos pareció relevante realizar algún tipo de estudio o investigación de estos y llegar a conclusiones de como se ha estado desarrollando esta pandemia y que países han lidiado mejor con esta y por qué."
   ]
  },
  {
   "cell_type": "markdown",
   "metadata": {},
   "source": [
    "### b) ¿Qué beneficio encontramos al trabajar con estos datos?"
   ]
  },
  {
   "cell_type": "markdown",
   "metadata": {},
   "source": [
    "El beneficio que encontramos al trabajar con esta base es que los datos que principalmente manejamos son numéricos, lo que implica un manejo mas sencillo de ellos comparando con datos alfanuméricos o de tipo “string”. Además, estos datos se encuentran convenientemente clasificados por región, lo que nos facilitará hacer nuevos cálculos o modificar los datos existentes con facilidad."
   ]
  },
  {
   "cell_type": "markdown",
   "metadata": {},
   "source": [
    "# Objetivo final"
   ]
  },
  {
   "cell_type": "markdown",
   "metadata": {},
   "source": [
    "### a) Objetivo principal"
   ]
  },
  {
   "cell_type": "markdown",
   "metadata": {},
   "source": [
    "Como objetivo principal tenemos planeado realizar una comparativa de los países mas afectados contra los menos afectados por la pandemia COVID-19 y llegar a conclusiones del porque a unos países les afecto mas que a otros e identificar los factores que estuvieron involucrados para llegar a dichas conclusiones."
   ]
  },
  {
   "cell_type": "markdown",
   "metadata": {},
   "source": [
    "# Mencionar preguntas de interés"
   ]
  },
  {
   "cell_type": "markdown",
   "metadata": {},
   "source": [
    "### a) Planteo de preguntas de interes"
   ]
  },
  {
   "cell_type": "markdown",
   "metadata": {},
   "source": [
    "1.-¿Qué continente se vio mayormente afectado por la pandemia?\n",
    "\n",
    "2.-¿Qué continente se vio menormente afectado por la pandemia?\n",
    "\n",
    "3.-¿Cuántas pruebas COVID se realizaron en promedio por continente?\n",
    "\n",
    "4.-¿Cuál es el ratio de contagio-recuperación y contagio-muerte de los países?"
   ]
  },
  {
   "cell_type": "markdown",
   "metadata": {},
   "source": [
    "# Limpieza de datos"
   ]
  },
  {
   "cell_type": "markdown",
   "metadata": {},
   "source": [
    "Se importan librerias requeridasSe importan librerias requeridas"
   ]
  },
  {
   "cell_type": "code",
   "execution_count": 1,
   "metadata": {},
   "outputs": [],
   "source": [
    "import pandas \n",
    "import numpy \n",
    "import json"
   ]
  },
  {
   "cell_type": "markdown",
   "metadata": {},
   "source": [
    "### Base de datos"
   ]
  },
  {
   "cell_type": "markdown",
   "metadata": {},
   "source": [
    "Se realiza la lectura del archivo"
   ]
  },
  {
   "cell_type": "code",
   "execution_count": 2,
   "metadata": {},
   "outputs": [],
   "source": [
    "show=pandas.read_csv(\"C:\\\\Users\\\\alber\\\\Desktop\\\\Covid\\\\worldometer_data.csv\")"
   ]
  },
  {
   "cell_type": "markdown",
   "metadata": {},
   "source": [
    "### Visualizacion de datos"
   ]
  },
  {
   "cell_type": "markdown",
   "metadata": {},
   "source": [
    "Vista previa de la base de datos"
   ]
  },
  {
   "cell_type": "code",
   "execution_count": 3,
   "metadata": {},
   "outputs": [
    {
     "data": {
      "text/html": [
       "<div>\n",
       "<style scoped>\n",
       "    .dataframe tbody tr th:only-of-type {\n",
       "        vertical-align: middle;\n",
       "    }\n",
       "\n",
       "    .dataframe tbody tr th {\n",
       "        vertical-align: top;\n",
       "    }\n",
       "\n",
       "    .dataframe thead th {\n",
       "        text-align: right;\n",
       "    }\n",
       "</style>\n",
       "<table border=\"1\" class=\"dataframe\">\n",
       "  <thead>\n",
       "    <tr style=\"text-align: right;\">\n",
       "      <th></th>\n",
       "      <th>Country/Region</th>\n",
       "      <th>Continent</th>\n",
       "      <th>Population</th>\n",
       "      <th>TotalCases</th>\n",
       "      <th>NewCases</th>\n",
       "      <th>TotalDeaths</th>\n",
       "      <th>NewDeaths</th>\n",
       "      <th>TotalRecovered</th>\n",
       "      <th>NewRecovered</th>\n",
       "      <th>ActiveCases</th>\n",
       "      <th>Serious,Critical</th>\n",
       "      <th>Tot Cases/1M pop</th>\n",
       "      <th>Deaths/1M pop</th>\n",
       "      <th>TotalTests</th>\n",
       "      <th>Tests/1M pop</th>\n",
       "      <th>WHO Region</th>\n",
       "    </tr>\n",
       "  </thead>\n",
       "  <tbody>\n",
       "    <tr>\n",
       "      <th>0</th>\n",
       "      <td>USA</td>\n",
       "      <td>North America</td>\n",
       "      <td>3.311981e+08</td>\n",
       "      <td>5032179</td>\n",
       "      <td>NaN</td>\n",
       "      <td>162804.0</td>\n",
       "      <td>NaN</td>\n",
       "      <td>2576668.0</td>\n",
       "      <td>NaN</td>\n",
       "      <td>2292707.0</td>\n",
       "      <td>18296.0</td>\n",
       "      <td>15194.0</td>\n",
       "      <td>492.0</td>\n",
       "      <td>63139605.0</td>\n",
       "      <td>190640.0</td>\n",
       "      <td>Americas</td>\n",
       "    </tr>\n",
       "    <tr>\n",
       "      <th>1</th>\n",
       "      <td>Brazil</td>\n",
       "      <td>South America</td>\n",
       "      <td>2.127107e+08</td>\n",
       "      <td>2917562</td>\n",
       "      <td>NaN</td>\n",
       "      <td>98644.0</td>\n",
       "      <td>NaN</td>\n",
       "      <td>2047660.0</td>\n",
       "      <td>NaN</td>\n",
       "      <td>771258.0</td>\n",
       "      <td>8318.0</td>\n",
       "      <td>13716.0</td>\n",
       "      <td>464.0</td>\n",
       "      <td>13206188.0</td>\n",
       "      <td>62085.0</td>\n",
       "      <td>Americas</td>\n",
       "    </tr>\n",
       "    <tr>\n",
       "      <th>2</th>\n",
       "      <td>India</td>\n",
       "      <td>Asia</td>\n",
       "      <td>1.381345e+09</td>\n",
       "      <td>2025409</td>\n",
       "      <td>NaN</td>\n",
       "      <td>41638.0</td>\n",
       "      <td>NaN</td>\n",
       "      <td>1377384.0</td>\n",
       "      <td>NaN</td>\n",
       "      <td>606387.0</td>\n",
       "      <td>8944.0</td>\n",
       "      <td>1466.0</td>\n",
       "      <td>30.0</td>\n",
       "      <td>22149351.0</td>\n",
       "      <td>16035.0</td>\n",
       "      <td>South-EastAsia</td>\n",
       "    </tr>\n",
       "    <tr>\n",
       "      <th>3</th>\n",
       "      <td>Russia</td>\n",
       "      <td>Europe</td>\n",
       "      <td>1.459409e+08</td>\n",
       "      <td>871894</td>\n",
       "      <td>NaN</td>\n",
       "      <td>14606.0</td>\n",
       "      <td>NaN</td>\n",
       "      <td>676357.0</td>\n",
       "      <td>NaN</td>\n",
       "      <td>180931.0</td>\n",
       "      <td>2300.0</td>\n",
       "      <td>5974.0</td>\n",
       "      <td>100.0</td>\n",
       "      <td>29716907.0</td>\n",
       "      <td>203623.0</td>\n",
       "      <td>Europe</td>\n",
       "    </tr>\n",
       "    <tr>\n",
       "      <th>4</th>\n",
       "      <td>South Africa</td>\n",
       "      <td>Africa</td>\n",
       "      <td>5.938157e+07</td>\n",
       "      <td>538184</td>\n",
       "      <td>NaN</td>\n",
       "      <td>9604.0</td>\n",
       "      <td>NaN</td>\n",
       "      <td>387316.0</td>\n",
       "      <td>NaN</td>\n",
       "      <td>141264.0</td>\n",
       "      <td>539.0</td>\n",
       "      <td>9063.0</td>\n",
       "      <td>162.0</td>\n",
       "      <td>3149807.0</td>\n",
       "      <td>53044.0</td>\n",
       "      <td>Africa</td>\n",
       "    </tr>\n",
       "    <tr>\n",
       "      <th>5</th>\n",
       "      <td>Mexico</td>\n",
       "      <td>North America</td>\n",
       "      <td>1.290662e+08</td>\n",
       "      <td>462690</td>\n",
       "      <td>6590.0</td>\n",
       "      <td>50517.0</td>\n",
       "      <td>819.0</td>\n",
       "      <td>308848.0</td>\n",
       "      <td>4140.0</td>\n",
       "      <td>103325.0</td>\n",
       "      <td>3987.0</td>\n",
       "      <td>3585.0</td>\n",
       "      <td>391.0</td>\n",
       "      <td>1056915.0</td>\n",
       "      <td>8189.0</td>\n",
       "      <td>Americas</td>\n",
       "    </tr>\n",
       "    <tr>\n",
       "      <th>6</th>\n",
       "      <td>Peru</td>\n",
       "      <td>South America</td>\n",
       "      <td>3.301632e+07</td>\n",
       "      <td>455409</td>\n",
       "      <td>NaN</td>\n",
       "      <td>20424.0</td>\n",
       "      <td>NaN</td>\n",
       "      <td>310337.0</td>\n",
       "      <td>NaN</td>\n",
       "      <td>124648.0</td>\n",
       "      <td>1426.0</td>\n",
       "      <td>13793.0</td>\n",
       "      <td>619.0</td>\n",
       "      <td>2493429.0</td>\n",
       "      <td>75521.0</td>\n",
       "      <td>Americas</td>\n",
       "    </tr>\n",
       "    <tr>\n",
       "      <th>7</th>\n",
       "      <td>Chile</td>\n",
       "      <td>South America</td>\n",
       "      <td>1.913251e+07</td>\n",
       "      <td>366671</td>\n",
       "      <td>NaN</td>\n",
       "      <td>9889.0</td>\n",
       "      <td>NaN</td>\n",
       "      <td>340168.0</td>\n",
       "      <td>NaN</td>\n",
       "      <td>16614.0</td>\n",
       "      <td>1358.0</td>\n",
       "      <td>19165.0</td>\n",
       "      <td>517.0</td>\n",
       "      <td>1760615.0</td>\n",
       "      <td>92022.0</td>\n",
       "      <td>Americas</td>\n",
       "    </tr>\n",
       "    <tr>\n",
       "      <th>8</th>\n",
       "      <td>Colombia</td>\n",
       "      <td>South America</td>\n",
       "      <td>5.093626e+07</td>\n",
       "      <td>357710</td>\n",
       "      <td>NaN</td>\n",
       "      <td>11939.0</td>\n",
       "      <td>NaN</td>\n",
       "      <td>192355.0</td>\n",
       "      <td>NaN</td>\n",
       "      <td>153416.0</td>\n",
       "      <td>1493.0</td>\n",
       "      <td>7023.0</td>\n",
       "      <td>234.0</td>\n",
       "      <td>1801835.0</td>\n",
       "      <td>35374.0</td>\n",
       "      <td>Americas</td>\n",
       "    </tr>\n",
       "    <tr>\n",
       "      <th>9</th>\n",
       "      <td>Spain</td>\n",
       "      <td>Europe</td>\n",
       "      <td>4.675665e+07</td>\n",
       "      <td>354530</td>\n",
       "      <td>NaN</td>\n",
       "      <td>28500.0</td>\n",
       "      <td>NaN</td>\n",
       "      <td>NaN</td>\n",
       "      <td>NaN</td>\n",
       "      <td>NaN</td>\n",
       "      <td>617.0</td>\n",
       "      <td>7582.0</td>\n",
       "      <td>610.0</td>\n",
       "      <td>7064329.0</td>\n",
       "      <td>151087.0</td>\n",
       "      <td>Europe</td>\n",
       "    </tr>\n",
       "    <tr>\n",
       "      <th>10</th>\n",
       "      <td>Iran</td>\n",
       "      <td>Asia</td>\n",
       "      <td>8.409762e+07</td>\n",
       "      <td>320117</td>\n",
       "      <td>NaN</td>\n",
       "      <td>17976.0</td>\n",
       "      <td>NaN</td>\n",
       "      <td>277463.0</td>\n",
       "      <td>NaN</td>\n",
       "      <td>24678.0</td>\n",
       "      <td>4156.0</td>\n",
       "      <td>3806.0</td>\n",
       "      <td>214.0</td>\n",
       "      <td>2612763.0</td>\n",
       "      <td>31068.0</td>\n",
       "      <td>EasternMediterranean</td>\n",
       "    </tr>\n",
       "    <tr>\n",
       "      <th>11</th>\n",
       "      <td>UK</td>\n",
       "      <td>Europe</td>\n",
       "      <td>6.792203e+07</td>\n",
       "      <td>308134</td>\n",
       "      <td>NaN</td>\n",
       "      <td>46413.0</td>\n",
       "      <td>NaN</td>\n",
       "      <td>NaN</td>\n",
       "      <td>NaN</td>\n",
       "      <td>NaN</td>\n",
       "      <td>73.0</td>\n",
       "      <td>4537.0</td>\n",
       "      <td>683.0</td>\n",
       "      <td>17515234.0</td>\n",
       "      <td>257873.0</td>\n",
       "      <td>Europe</td>\n",
       "    </tr>\n",
       "    <tr>\n",
       "      <th>12</th>\n",
       "      <td>Saudi Arabia</td>\n",
       "      <td>Asia</td>\n",
       "      <td>3.486592e+07</td>\n",
       "      <td>284226</td>\n",
       "      <td>NaN</td>\n",
       "      <td>3055.0</td>\n",
       "      <td>NaN</td>\n",
       "      <td>247089.0</td>\n",
       "      <td>NaN</td>\n",
       "      <td>34082.0</td>\n",
       "      <td>1915.0</td>\n",
       "      <td>8152.0</td>\n",
       "      <td>88.0</td>\n",
       "      <td>3635705.0</td>\n",
       "      <td>104277.0</td>\n",
       "      <td>EasternMediterranean</td>\n",
       "    </tr>\n",
       "    <tr>\n",
       "      <th>13</th>\n",
       "      <td>Pakistan</td>\n",
       "      <td>Asia</td>\n",
       "      <td>2.212959e+08</td>\n",
       "      <td>281863</td>\n",
       "      <td>NaN</td>\n",
       "      <td>6035.0</td>\n",
       "      <td>NaN</td>\n",
       "      <td>256058.0</td>\n",
       "      <td>NaN</td>\n",
       "      <td>19770.0</td>\n",
       "      <td>809.0</td>\n",
       "      <td>1274.0</td>\n",
       "      <td>27.0</td>\n",
       "      <td>2058872.0</td>\n",
       "      <td>9304.0</td>\n",
       "      <td>EasternMediterranean</td>\n",
       "    </tr>\n",
       "    <tr>\n",
       "      <th>14</th>\n",
       "      <td>Bangladesh</td>\n",
       "      <td>Asia</td>\n",
       "      <td>1.648514e+08</td>\n",
       "      <td>249651</td>\n",
       "      <td>NaN</td>\n",
       "      <td>3306.0</td>\n",
       "      <td>NaN</td>\n",
       "      <td>143824.0</td>\n",
       "      <td>NaN</td>\n",
       "      <td>102521.0</td>\n",
       "      <td>NaN</td>\n",
       "      <td>1514.0</td>\n",
       "      <td>20.0</td>\n",
       "      <td>1225124.0</td>\n",
       "      <td>7432.0</td>\n",
       "      <td>South-EastAsia</td>\n",
       "    </tr>\n",
       "    <tr>\n",
       "      <th>15</th>\n",
       "      <td>Italy</td>\n",
       "      <td>Europe</td>\n",
       "      <td>6.045257e+07</td>\n",
       "      <td>249204</td>\n",
       "      <td>NaN</td>\n",
       "      <td>35187.0</td>\n",
       "      <td>NaN</td>\n",
       "      <td>201323.0</td>\n",
       "      <td>NaN</td>\n",
       "      <td>12694.0</td>\n",
       "      <td>42.0</td>\n",
       "      <td>4122.0</td>\n",
       "      <td>582.0</td>\n",
       "      <td>7099713.0</td>\n",
       "      <td>117443.0</td>\n",
       "      <td>Europe</td>\n",
       "    </tr>\n",
       "    <tr>\n",
       "      <th>16</th>\n",
       "      <td>Turkey</td>\n",
       "      <td>Asia</td>\n",
       "      <td>8.442833e+07</td>\n",
       "      <td>237265</td>\n",
       "      <td>NaN</td>\n",
       "      <td>5798.0</td>\n",
       "      <td>NaN</td>\n",
       "      <td>220546.0</td>\n",
       "      <td>NaN</td>\n",
       "      <td>10921.0</td>\n",
       "      <td>580.0</td>\n",
       "      <td>2810.0</td>\n",
       "      <td>69.0</td>\n",
       "      <td>5081802.0</td>\n",
       "      <td>60191.0</td>\n",
       "      <td>Europe</td>\n",
       "    </tr>\n",
       "    <tr>\n",
       "      <th>17</th>\n",
       "      <td>Argentina</td>\n",
       "      <td>South America</td>\n",
       "      <td>4.523688e+07</td>\n",
       "      <td>228195</td>\n",
       "      <td>NaN</td>\n",
       "      <td>4251.0</td>\n",
       "      <td>NaN</td>\n",
       "      <td>99852.0</td>\n",
       "      <td>NaN</td>\n",
       "      <td>124092.0</td>\n",
       "      <td>1150.0</td>\n",
       "      <td>5044.0</td>\n",
       "      <td>94.0</td>\n",
       "      <td>794544.0</td>\n",
       "      <td>17564.0</td>\n",
       "      <td>Americas</td>\n",
       "    </tr>\n",
       "    <tr>\n",
       "      <th>18</th>\n",
       "      <td>Germany</td>\n",
       "      <td>Europe</td>\n",
       "      <td>8.381126e+07</td>\n",
       "      <td>215210</td>\n",
       "      <td>NaN</td>\n",
       "      <td>9252.0</td>\n",
       "      <td>NaN</td>\n",
       "      <td>196200.0</td>\n",
       "      <td>NaN</td>\n",
       "      <td>9758.0</td>\n",
       "      <td>236.0</td>\n",
       "      <td>2568.0</td>\n",
       "      <td>110.0</td>\n",
       "      <td>8586648.0</td>\n",
       "      <td>102452.0</td>\n",
       "      <td>Europe</td>\n",
       "    </tr>\n",
       "    <tr>\n",
       "      <th>19</th>\n",
       "      <td>France</td>\n",
       "      <td>Europe</td>\n",
       "      <td>6.528831e+07</td>\n",
       "      <td>195633</td>\n",
       "      <td>NaN</td>\n",
       "      <td>30312.0</td>\n",
       "      <td>NaN</td>\n",
       "      <td>82460.0</td>\n",
       "      <td>NaN</td>\n",
       "      <td>82861.0</td>\n",
       "      <td>384.0</td>\n",
       "      <td>2996.0</td>\n",
       "      <td>464.0</td>\n",
       "      <td>3992206.0</td>\n",
       "      <td>61147.0</td>\n",
       "      <td>Europe</td>\n",
       "    </tr>\n",
       "    <tr>\n",
       "      <th>20</th>\n",
       "      <td>Iraq</td>\n",
       "      <td>Asia</td>\n",
       "      <td>4.030602e+07</td>\n",
       "      <td>140603</td>\n",
       "      <td>NaN</td>\n",
       "      <td>5161.0</td>\n",
       "      <td>NaN</td>\n",
       "      <td>101025.0</td>\n",
       "      <td>NaN</td>\n",
       "      <td>34417.0</td>\n",
       "      <td>517.0</td>\n",
       "      <td>3488.0</td>\n",
       "      <td>128.0</td>\n",
       "      <td>1092741.0</td>\n",
       "      <td>27111.0</td>\n",
       "      <td>EasternMediterranean</td>\n",
       "    </tr>\n",
       "    <tr>\n",
       "      <th>21</th>\n",
       "      <td>Philippines</td>\n",
       "      <td>Asia</td>\n",
       "      <td>1.097227e+08</td>\n",
       "      <td>119460</td>\n",
       "      <td>NaN</td>\n",
       "      <td>2150.0</td>\n",
       "      <td>NaN</td>\n",
       "      <td>66837.0</td>\n",
       "      <td>NaN</td>\n",
       "      <td>50473.0</td>\n",
       "      <td>239.0</td>\n",
       "      <td>1089.0</td>\n",
       "      <td>20.0</td>\n",
       "      <td>1669996.0</td>\n",
       "      <td>15220.0</td>\n",
       "      <td>WesternPacific</td>\n",
       "    </tr>\n",
       "    <tr>\n",
       "      <th>22</th>\n",
       "      <td>Indonesia</td>\n",
       "      <td>Asia</td>\n",
       "      <td>2.738084e+08</td>\n",
       "      <td>118753</td>\n",
       "      <td>NaN</td>\n",
       "      <td>5521.0</td>\n",
       "      <td>NaN</td>\n",
       "      <td>75645.0</td>\n",
       "      <td>NaN</td>\n",
       "      <td>37587.0</td>\n",
       "      <td>NaN</td>\n",
       "      <td>434.0</td>\n",
       "      <td>20.0</td>\n",
       "      <td>1633156.0</td>\n",
       "      <td>5965.0</td>\n",
       "      <td>South-EastAsia</td>\n",
       "    </tr>\n",
       "    <tr>\n",
       "      <th>23</th>\n",
       "      <td>Canada</td>\n",
       "      <td>North America</td>\n",
       "      <td>3.777502e+07</td>\n",
       "      <td>118561</td>\n",
       "      <td>NaN</td>\n",
       "      <td>8966.0</td>\n",
       "      <td>NaN</td>\n",
       "      <td>103106.0</td>\n",
       "      <td>NaN</td>\n",
       "      <td>6489.0</td>\n",
       "      <td>2263.0</td>\n",
       "      <td>3139.0</td>\n",
       "      <td>237.0</td>\n",
       "      <td>4319172.0</td>\n",
       "      <td>114339.0</td>\n",
       "      <td>Americas</td>\n",
       "    </tr>\n",
       "    <tr>\n",
       "      <th>24</th>\n",
       "      <td>Qatar</td>\n",
       "      <td>Asia</td>\n",
       "      <td>2.807805e+06</td>\n",
       "      <td>112092</td>\n",
       "      <td>NaN</td>\n",
       "      <td>178.0</td>\n",
       "      <td>NaN</td>\n",
       "      <td>108831.0</td>\n",
       "      <td>NaN</td>\n",
       "      <td>3083.0</td>\n",
       "      <td>77.0</td>\n",
       "      <td>39922.0</td>\n",
       "      <td>63.0</td>\n",
       "      <td>511000.0</td>\n",
       "      <td>181993.0</td>\n",
       "      <td>EasternMediterranean</td>\n",
       "    </tr>\n",
       "    <tr>\n",
       "      <th>25</th>\n",
       "      <td>Kazakhstan</td>\n",
       "      <td>Asia</td>\n",
       "      <td>1.879867e+07</td>\n",
       "      <td>95942</td>\n",
       "      <td>NaN</td>\n",
       "      <td>1058.0</td>\n",
       "      <td>NaN</td>\n",
       "      <td>68871.0</td>\n",
       "      <td>NaN</td>\n",
       "      <td>26013.0</td>\n",
       "      <td>221.0</td>\n",
       "      <td>5104.0</td>\n",
       "      <td>56.0</td>\n",
       "      <td>2163713.0</td>\n",
       "      <td>115099.0</td>\n",
       "      <td>Europe</td>\n",
       "    </tr>\n",
       "    <tr>\n",
       "      <th>26</th>\n",
       "      <td>Egypt</td>\n",
       "      <td>Africa</td>\n",
       "      <td>1.025165e+08</td>\n",
       "      <td>95006</td>\n",
       "      <td>NaN</td>\n",
       "      <td>4951.0</td>\n",
       "      <td>NaN</td>\n",
       "      <td>48898.0</td>\n",
       "      <td>NaN</td>\n",
       "      <td>41157.0</td>\n",
       "      <td>41.0</td>\n",
       "      <td>927.0</td>\n",
       "      <td>48.0</td>\n",
       "      <td>135000.0</td>\n",
       "      <td>1317.0</td>\n",
       "      <td>EasternMediterranean</td>\n",
       "    </tr>\n",
       "    <tr>\n",
       "      <th>27</th>\n",
       "      <td>Ecuador</td>\n",
       "      <td>South America</td>\n",
       "      <td>1.766882e+07</td>\n",
       "      <td>90537</td>\n",
       "      <td>NaN</td>\n",
       "      <td>5877.0</td>\n",
       "      <td>NaN</td>\n",
       "      <td>71318.0</td>\n",
       "      <td>NaN</td>\n",
       "      <td>13342.0</td>\n",
       "      <td>378.0</td>\n",
       "      <td>5124.0</td>\n",
       "      <td>333.0</td>\n",
       "      <td>258582.0</td>\n",
       "      <td>14635.0</td>\n",
       "      <td>Americas</td>\n",
       "    </tr>\n",
       "    <tr>\n",
       "      <th>28</th>\n",
       "      <td>Bolivia</td>\n",
       "      <td>South America</td>\n",
       "      <td>1.168846e+07</td>\n",
       "      <td>86423</td>\n",
       "      <td>1282.0</td>\n",
       "      <td>3465.0</td>\n",
       "      <td>80.0</td>\n",
       "      <td>27373.0</td>\n",
       "      <td>936.0</td>\n",
       "      <td>55585.0</td>\n",
       "      <td>71.0</td>\n",
       "      <td>7394.0</td>\n",
       "      <td>296.0</td>\n",
       "      <td>183583.0</td>\n",
       "      <td>15706.0</td>\n",
       "      <td>Americas</td>\n",
       "    </tr>\n",
       "    <tr>\n",
       "      <th>29</th>\n",
       "      <td>Sweden</td>\n",
       "      <td>Europe</td>\n",
       "      <td>1.010560e+07</td>\n",
       "      <td>81967</td>\n",
       "      <td>NaN</td>\n",
       "      <td>5766.0</td>\n",
       "      <td>NaN</td>\n",
       "      <td>NaN</td>\n",
       "      <td>NaN</td>\n",
       "      <td>NaN</td>\n",
       "      <td>38.0</td>\n",
       "      <td>8111.0</td>\n",
       "      <td>571.0</td>\n",
       "      <td>863315.0</td>\n",
       "      <td>85429.0</td>\n",
       "      <td>Europe</td>\n",
       "    </tr>\n",
       "  </tbody>\n",
       "</table>\n",
       "</div>"
      ],
      "text/plain": [
       "   Country/Region      Continent    Population  TotalCases  NewCases  \\\n",
       "0             USA  North America  3.311981e+08     5032179       NaN   \n",
       "1          Brazil  South America  2.127107e+08     2917562       NaN   \n",
       "2           India           Asia  1.381345e+09     2025409       NaN   \n",
       "3          Russia         Europe  1.459409e+08      871894       NaN   \n",
       "4    South Africa         Africa  5.938157e+07      538184       NaN   \n",
       "5          Mexico  North America  1.290662e+08      462690    6590.0   \n",
       "6            Peru  South America  3.301632e+07      455409       NaN   \n",
       "7           Chile  South America  1.913251e+07      366671       NaN   \n",
       "8        Colombia  South America  5.093626e+07      357710       NaN   \n",
       "9           Spain         Europe  4.675665e+07      354530       NaN   \n",
       "10           Iran           Asia  8.409762e+07      320117       NaN   \n",
       "11             UK         Europe  6.792203e+07      308134       NaN   \n",
       "12   Saudi Arabia           Asia  3.486592e+07      284226       NaN   \n",
       "13       Pakistan           Asia  2.212959e+08      281863       NaN   \n",
       "14     Bangladesh           Asia  1.648514e+08      249651       NaN   \n",
       "15          Italy         Europe  6.045257e+07      249204       NaN   \n",
       "16         Turkey           Asia  8.442833e+07      237265       NaN   \n",
       "17      Argentina  South America  4.523688e+07      228195       NaN   \n",
       "18        Germany         Europe  8.381126e+07      215210       NaN   \n",
       "19         France         Europe  6.528831e+07      195633       NaN   \n",
       "20           Iraq           Asia  4.030602e+07      140603       NaN   \n",
       "21    Philippines           Asia  1.097227e+08      119460       NaN   \n",
       "22      Indonesia           Asia  2.738084e+08      118753       NaN   \n",
       "23         Canada  North America  3.777502e+07      118561       NaN   \n",
       "24          Qatar           Asia  2.807805e+06      112092       NaN   \n",
       "25     Kazakhstan           Asia  1.879867e+07       95942       NaN   \n",
       "26          Egypt         Africa  1.025165e+08       95006       NaN   \n",
       "27        Ecuador  South America  1.766882e+07       90537       NaN   \n",
       "28        Bolivia  South America  1.168846e+07       86423    1282.0   \n",
       "29         Sweden         Europe  1.010560e+07       81967       NaN   \n",
       "\n",
       "    TotalDeaths  NewDeaths  TotalRecovered  NewRecovered  ActiveCases  \\\n",
       "0      162804.0        NaN       2576668.0           NaN    2292707.0   \n",
       "1       98644.0        NaN       2047660.0           NaN     771258.0   \n",
       "2       41638.0        NaN       1377384.0           NaN     606387.0   \n",
       "3       14606.0        NaN        676357.0           NaN     180931.0   \n",
       "4        9604.0        NaN        387316.0           NaN     141264.0   \n",
       "5       50517.0      819.0        308848.0        4140.0     103325.0   \n",
       "6       20424.0        NaN        310337.0           NaN     124648.0   \n",
       "7        9889.0        NaN        340168.0           NaN      16614.0   \n",
       "8       11939.0        NaN        192355.0           NaN     153416.0   \n",
       "9       28500.0        NaN             NaN           NaN          NaN   \n",
       "10      17976.0        NaN        277463.0           NaN      24678.0   \n",
       "11      46413.0        NaN             NaN           NaN          NaN   \n",
       "12       3055.0        NaN        247089.0           NaN      34082.0   \n",
       "13       6035.0        NaN        256058.0           NaN      19770.0   \n",
       "14       3306.0        NaN        143824.0           NaN     102521.0   \n",
       "15      35187.0        NaN        201323.0           NaN      12694.0   \n",
       "16       5798.0        NaN        220546.0           NaN      10921.0   \n",
       "17       4251.0        NaN         99852.0           NaN     124092.0   \n",
       "18       9252.0        NaN        196200.0           NaN       9758.0   \n",
       "19      30312.0        NaN         82460.0           NaN      82861.0   \n",
       "20       5161.0        NaN        101025.0           NaN      34417.0   \n",
       "21       2150.0        NaN         66837.0           NaN      50473.0   \n",
       "22       5521.0        NaN         75645.0           NaN      37587.0   \n",
       "23       8966.0        NaN        103106.0           NaN       6489.0   \n",
       "24        178.0        NaN        108831.0           NaN       3083.0   \n",
       "25       1058.0        NaN         68871.0           NaN      26013.0   \n",
       "26       4951.0        NaN         48898.0           NaN      41157.0   \n",
       "27       5877.0        NaN         71318.0           NaN      13342.0   \n",
       "28       3465.0       80.0         27373.0         936.0      55585.0   \n",
       "29       5766.0        NaN             NaN           NaN          NaN   \n",
       "\n",
       "    Serious,Critical  Tot Cases/1M pop  Deaths/1M pop  TotalTests  \\\n",
       "0            18296.0           15194.0          492.0  63139605.0   \n",
       "1             8318.0           13716.0          464.0  13206188.0   \n",
       "2             8944.0            1466.0           30.0  22149351.0   \n",
       "3             2300.0            5974.0          100.0  29716907.0   \n",
       "4              539.0            9063.0          162.0   3149807.0   \n",
       "5             3987.0            3585.0          391.0   1056915.0   \n",
       "6             1426.0           13793.0          619.0   2493429.0   \n",
       "7             1358.0           19165.0          517.0   1760615.0   \n",
       "8             1493.0            7023.0          234.0   1801835.0   \n",
       "9              617.0            7582.0          610.0   7064329.0   \n",
       "10            4156.0            3806.0          214.0   2612763.0   \n",
       "11              73.0            4537.0          683.0  17515234.0   \n",
       "12            1915.0            8152.0           88.0   3635705.0   \n",
       "13             809.0            1274.0           27.0   2058872.0   \n",
       "14               NaN            1514.0           20.0   1225124.0   \n",
       "15              42.0            4122.0          582.0   7099713.0   \n",
       "16             580.0            2810.0           69.0   5081802.0   \n",
       "17            1150.0            5044.0           94.0    794544.0   \n",
       "18             236.0            2568.0          110.0   8586648.0   \n",
       "19             384.0            2996.0          464.0   3992206.0   \n",
       "20             517.0            3488.0          128.0   1092741.0   \n",
       "21             239.0            1089.0           20.0   1669996.0   \n",
       "22               NaN             434.0           20.0   1633156.0   \n",
       "23            2263.0            3139.0          237.0   4319172.0   \n",
       "24              77.0           39922.0           63.0    511000.0   \n",
       "25             221.0            5104.0           56.0   2163713.0   \n",
       "26              41.0             927.0           48.0    135000.0   \n",
       "27             378.0            5124.0          333.0    258582.0   \n",
       "28              71.0            7394.0          296.0    183583.0   \n",
       "29              38.0            8111.0          571.0    863315.0   \n",
       "\n",
       "    Tests/1M pop            WHO Region  \n",
       "0       190640.0              Americas  \n",
       "1        62085.0              Americas  \n",
       "2        16035.0        South-EastAsia  \n",
       "3       203623.0                Europe  \n",
       "4        53044.0                Africa  \n",
       "5         8189.0              Americas  \n",
       "6        75521.0              Americas  \n",
       "7        92022.0              Americas  \n",
       "8        35374.0              Americas  \n",
       "9       151087.0                Europe  \n",
       "10       31068.0  EasternMediterranean  \n",
       "11      257873.0                Europe  \n",
       "12      104277.0  EasternMediterranean  \n",
       "13        9304.0  EasternMediterranean  \n",
       "14        7432.0        South-EastAsia  \n",
       "15      117443.0                Europe  \n",
       "16       60191.0                Europe  \n",
       "17       17564.0              Americas  \n",
       "18      102452.0                Europe  \n",
       "19       61147.0                Europe  \n",
       "20       27111.0  EasternMediterranean  \n",
       "21       15220.0        WesternPacific  \n",
       "22        5965.0        South-EastAsia  \n",
       "23      114339.0              Americas  \n",
       "24      181993.0  EasternMediterranean  \n",
       "25      115099.0                Europe  \n",
       "26        1317.0  EasternMediterranean  \n",
       "27       14635.0              Americas  \n",
       "28       15706.0              Americas  \n",
       "29       85429.0                Europe  "
      ]
     },
     "execution_count": 3,
     "metadata": {},
     "output_type": "execute_result"
    }
   ],
   "source": [
    "show.head(30)"
   ]
  },
  {
   "cell_type": "markdown",
   "metadata": {},
   "source": [
    "Realizamos un conteo previo de filas y columnas"
   ]
  },
  {
   "cell_type": "code",
   "execution_count": 4,
   "metadata": {},
   "outputs": [
    {
     "name": "stdout",
     "output_type": "stream",
     "text": [
      "(209, 16)\n"
     ]
    }
   ],
   "source": [
    "print (show.shape)"
   ]
  },
  {
   "cell_type": "markdown",
   "metadata": {},
   "source": [
    "### Descripción de columnas"
   ]
  },
  {
   "cell_type": "markdown",
   "metadata": {},
   "source": [
    "Visualizamos los nombres de las columnas "
   ]
  },
  {
   "cell_type": "code",
   "execution_count": 5,
   "metadata": {},
   "outputs": [
    {
     "data": {
      "text/plain": [
       "Index(['Country/Region', 'Continent', 'Population', 'TotalCases', 'NewCases',\n",
       "       'TotalDeaths', 'NewDeaths', 'TotalRecovered', 'NewRecovered',\n",
       "       'ActiveCases', 'Serious,Critical', 'Tot Cases/1M pop', 'Deaths/1M pop',\n",
       "       'TotalTests', 'Tests/1M pop', 'WHO Region'],\n",
       "      dtype='object')"
      ]
     },
     "execution_count": 5,
     "metadata": {},
     "output_type": "execute_result"
    }
   ],
   "source": [
    "show.columns"
   ]
  },
  {
   "cell_type": "markdown",
   "metadata": {},
   "source": [
    "Identificamos que tipo de datos están contenidos en las columnas"
   ]
  },
  {
   "cell_type": "code",
   "execution_count": 6,
   "metadata": {},
   "outputs": [
    {
     "data": {
      "text/plain": [
       "Country/Region       object\n",
       "Continent            object\n",
       "Population          float64\n",
       "TotalCases            int64\n",
       "NewCases            float64\n",
       "TotalDeaths         float64\n",
       "NewDeaths           float64\n",
       "TotalRecovered      float64\n",
       "NewRecovered        float64\n",
       "ActiveCases         float64\n",
       "Serious,Critical    float64\n",
       "Tot Cases/1M pop    float64\n",
       "Deaths/1M pop       float64\n",
       "TotalTests          float64\n",
       "Tests/1M pop        float64\n",
       "WHO Region           object\n",
       "dtype: object"
      ]
     },
     "execution_count": 6,
     "metadata": {},
     "output_type": "execute_result"
    }
   ],
   "source": [
    "show.dtypes"
   ]
  },
  {
   "cell_type": "markdown",
   "metadata": {},
   "source": [
    "Identificamos que columnas tienen datos nulos "
   ]
  },
  {
   "cell_type": "code",
   "execution_count": 7,
   "metadata": {},
   "outputs": [
    {
     "data": {
      "text/plain": [
       "Country/Region      False\n",
       "Continent            True\n",
       "Population           True\n",
       "TotalCases          False\n",
       "NewCases             True\n",
       "TotalDeaths          True\n",
       "NewDeaths            True\n",
       "TotalRecovered       True\n",
       "NewRecovered         True\n",
       "ActiveCases          True\n",
       "Serious,Critical     True\n",
       "Tot Cases/1M pop     True\n",
       "Deaths/1M pop        True\n",
       "TotalTests           True\n",
       "Tests/1M pop         True\n",
       "WHO Region           True\n",
       "dtype: bool"
      ]
     },
     "execution_count": 7,
     "metadata": {},
     "output_type": "execute_result"
    }
   ],
   "source": [
    "show.isnull().any()"
   ]
  },
  {
   "cell_type": "markdown",
   "metadata": {},
   "source": [
    "### Clasificación de datos"
   ]
  },
  {
   "cell_type": "markdown",
   "metadata": {},
   "source": [
    "Ejemplos de los datos contenidos en las columnas"
   ]
  },
  {
   "cell_type": "code",
   "execution_count": 8,
   "metadata": {},
   "outputs": [
    {
     "data": {
      "text/plain": [
       "array([5032179, 2917562, 2025409,  871894,  538184,  462690,  455409,\n",
       "        366671,  357710,  354530,  320117,  308134,  284226,  281863,\n",
       "        249651,  249204,  237265,  228195,  215210,  195633,  140603,\n",
       "        119460,  118753,  118561,  112092,   95942,   95006,   90537,\n",
       "         86423,   81967,   80713,   79559,   76808,   76536,   71418,\n",
       "         71158,   70045,   68503,   61845,   57895,   56982,   54555,\n",
       "         54339,   52061,   49515,   45244,   45098,   42889,   42263,\n",
       "         39819,   39642,   38659,   36896,   36108,   33626,   33247,\n",
       "         29644,   28315,   27332,   26628,   26372,   24411,   22299,\n",
       "         21750,   21696,   21070,   20900,   19890,   19126,   17731,\n",
       "         17718,   16447,   14519,   14306,   13398,   13396,   13014,\n",
       "         12526,   11780,   11399,   10715,    9468,    9309,    9038,\n",
       "          8127,    7787,    7665,    7664,    7544,    7532,    7164,\n",
       "          7073,    6444,    6375,    6016,    5672,    5404,    5330,\n",
       "          5123,    4879,    4821,    4680,    4620,    4597,    4491,\n",
       "          4339,    3902,    3850,    3546,    3480,    3330,    3227,\n",
       "          3042,    2968,    2839,    2775,    2734,    2652,    2552,\n",
       "          2480,    2450,    2223,    2171,    2124,    2120,    2111,\n",
       "          2096,    2032,    1936,    1930,    1877,    1768,    1642,\n",
       "          1569,    1483,    1318,    1275,    1232,    1224,    1223,\n",
       "          1208,    1206,    1158,    1153,    1012,     999,     958,\n",
       "           946,     944,     942,     935,     878,     804,     761,\n",
       "           747,     742,     712,     699,     671,     597,     538,\n",
       "           509,     477,     396,     395,     357,     344,     336,\n",
       "           293,     282,     279,     276,     266,     263,     243,\n",
       "           210,     203,     190,     163,     160,     157,     141,\n",
       "           133,     129,     126,     125,     105,      92,      89,\n",
       "            86,      64,      56,      53,      46,      31,      27,\n",
       "            25,      24,      22,      20,      18,      17,      14,\n",
       "            13,      12,      10], dtype=int64)"
      ]
     },
     "execution_count": 8,
     "metadata": {},
     "output_type": "execute_result"
    }
   ],
   "source": [
    "show.TotalCases.unique()"
   ]
  },
  {
   "cell_type": "code",
   "execution_count": 9,
   "metadata": {},
   "outputs": [
    {
     "data": {
      "text/plain": [
       "array([  nan, 6590., 1282.,   20.,   30.])"
      ]
     },
     "execution_count": 9,
     "metadata": {},
     "output_type": "execute_result"
    }
   ],
   "source": [
    "show.NewCases.unique()"
   ]
  },
  {
   "cell_type": "markdown",
   "metadata": {},
   "source": [
    "### Cambio de nombres de las columnas"
   ]
  },
  {
   "cell_type": "markdown",
   "metadata": {},
   "source": [
    "Se eliminaron las columnas que consideramos innecesarias o que tuvieran muchos datos nulos"
   ]
  },
  {
   "cell_type": "code",
   "execution_count": 10,
   "metadata": {},
   "outputs": [
    {
     "data": {
      "text/html": [
       "<div>\n",
       "<style scoped>\n",
       "    .dataframe tbody tr th:only-of-type {\n",
       "        vertical-align: middle;\n",
       "    }\n",
       "\n",
       "    .dataframe tbody tr th {\n",
       "        vertical-align: top;\n",
       "    }\n",
       "\n",
       "    .dataframe thead th {\n",
       "        text-align: right;\n",
       "    }\n",
       "</style>\n",
       "<table border=\"1\" class=\"dataframe\">\n",
       "  <thead>\n",
       "    <tr style=\"text-align: right;\">\n",
       "      <th></th>\n",
       "      <th>Country/Region</th>\n",
       "      <th>Continent</th>\n",
       "      <th>Population</th>\n",
       "      <th>TotalCases</th>\n",
       "      <th>TotalDeaths</th>\n",
       "      <th>TotalRecovered</th>\n",
       "      <th>ActiveCases</th>\n",
       "      <th>Serious,Critical</th>\n",
       "      <th>TotalTests</th>\n",
       "    </tr>\n",
       "  </thead>\n",
       "  <tbody>\n",
       "    <tr>\n",
       "      <th>0</th>\n",
       "      <td>USA</td>\n",
       "      <td>North America</td>\n",
       "      <td>3.311981e+08</td>\n",
       "      <td>5032179</td>\n",
       "      <td>162804.0</td>\n",
       "      <td>2576668.0</td>\n",
       "      <td>2292707.0</td>\n",
       "      <td>18296.0</td>\n",
       "      <td>63139605.0</td>\n",
       "    </tr>\n",
       "    <tr>\n",
       "      <th>1</th>\n",
       "      <td>Brazil</td>\n",
       "      <td>South America</td>\n",
       "      <td>2.127107e+08</td>\n",
       "      <td>2917562</td>\n",
       "      <td>98644.0</td>\n",
       "      <td>2047660.0</td>\n",
       "      <td>771258.0</td>\n",
       "      <td>8318.0</td>\n",
       "      <td>13206188.0</td>\n",
       "    </tr>\n",
       "    <tr>\n",
       "      <th>2</th>\n",
       "      <td>India</td>\n",
       "      <td>Asia</td>\n",
       "      <td>1.381345e+09</td>\n",
       "      <td>2025409</td>\n",
       "      <td>41638.0</td>\n",
       "      <td>1377384.0</td>\n",
       "      <td>606387.0</td>\n",
       "      <td>8944.0</td>\n",
       "      <td>22149351.0</td>\n",
       "    </tr>\n",
       "    <tr>\n",
       "      <th>3</th>\n",
       "      <td>Russia</td>\n",
       "      <td>Europe</td>\n",
       "      <td>1.459409e+08</td>\n",
       "      <td>871894</td>\n",
       "      <td>14606.0</td>\n",
       "      <td>676357.0</td>\n",
       "      <td>180931.0</td>\n",
       "      <td>2300.0</td>\n",
       "      <td>29716907.0</td>\n",
       "    </tr>\n",
       "    <tr>\n",
       "      <th>4</th>\n",
       "      <td>South Africa</td>\n",
       "      <td>Africa</td>\n",
       "      <td>5.938157e+07</td>\n",
       "      <td>538184</td>\n",
       "      <td>9604.0</td>\n",
       "      <td>387316.0</td>\n",
       "      <td>141264.0</td>\n",
       "      <td>539.0</td>\n",
       "      <td>3149807.0</td>\n",
       "    </tr>\n",
       "    <tr>\n",
       "      <th>...</th>\n",
       "      <td>...</td>\n",
       "      <td>...</td>\n",
       "      <td>...</td>\n",
       "      <td>...</td>\n",
       "      <td>...</td>\n",
       "      <td>...</td>\n",
       "      <td>...</td>\n",
       "      <td>...</td>\n",
       "      <td>...</td>\n",
       "    </tr>\n",
       "    <tr>\n",
       "      <th>204</th>\n",
       "      <td>Montserrat</td>\n",
       "      <td>North America</td>\n",
       "      <td>4.992000e+03</td>\n",
       "      <td>13</td>\n",
       "      <td>1.0</td>\n",
       "      <td>10.0</td>\n",
       "      <td>2.0</td>\n",
       "      <td>NaN</td>\n",
       "      <td>61.0</td>\n",
       "    </tr>\n",
       "    <tr>\n",
       "      <th>205</th>\n",
       "      <td>Caribbean Netherlands</td>\n",
       "      <td>North America</td>\n",
       "      <td>2.624700e+04</td>\n",
       "      <td>13</td>\n",
       "      <td>NaN</td>\n",
       "      <td>7.0</td>\n",
       "      <td>6.0</td>\n",
       "      <td>NaN</td>\n",
       "      <td>424.0</td>\n",
       "    </tr>\n",
       "    <tr>\n",
       "      <th>206</th>\n",
       "      <td>Falkland Islands</td>\n",
       "      <td>South America</td>\n",
       "      <td>3.489000e+03</td>\n",
       "      <td>13</td>\n",
       "      <td>NaN</td>\n",
       "      <td>13.0</td>\n",
       "      <td>0.0</td>\n",
       "      <td>NaN</td>\n",
       "      <td>1816.0</td>\n",
       "    </tr>\n",
       "    <tr>\n",
       "      <th>207</th>\n",
       "      <td>Vatican City</td>\n",
       "      <td>Europe</td>\n",
       "      <td>8.010000e+02</td>\n",
       "      <td>12</td>\n",
       "      <td>NaN</td>\n",
       "      <td>12.0</td>\n",
       "      <td>0.0</td>\n",
       "      <td>NaN</td>\n",
       "      <td>NaN</td>\n",
       "    </tr>\n",
       "    <tr>\n",
       "      <th>208</th>\n",
       "      <td>Western Sahara</td>\n",
       "      <td>Africa</td>\n",
       "      <td>5.986820e+05</td>\n",
       "      <td>10</td>\n",
       "      <td>1.0</td>\n",
       "      <td>8.0</td>\n",
       "      <td>1.0</td>\n",
       "      <td>NaN</td>\n",
       "      <td>NaN</td>\n",
       "    </tr>\n",
       "  </tbody>\n",
       "</table>\n",
       "<p>209 rows × 9 columns</p>\n",
       "</div>"
      ],
      "text/plain": [
       "            Country/Region      Continent    Population  TotalCases  \\\n",
       "0                      USA  North America  3.311981e+08     5032179   \n",
       "1                   Brazil  South America  2.127107e+08     2917562   \n",
       "2                    India           Asia  1.381345e+09     2025409   \n",
       "3                   Russia         Europe  1.459409e+08      871894   \n",
       "4             South Africa         Africa  5.938157e+07      538184   \n",
       "..                     ...            ...           ...         ...   \n",
       "204             Montserrat  North America  4.992000e+03          13   \n",
       "205  Caribbean Netherlands  North America  2.624700e+04          13   \n",
       "206       Falkland Islands  South America  3.489000e+03          13   \n",
       "207           Vatican City         Europe  8.010000e+02          12   \n",
       "208         Western Sahara         Africa  5.986820e+05          10   \n",
       "\n",
       "     TotalDeaths  TotalRecovered  ActiveCases  Serious,Critical  TotalTests  \n",
       "0       162804.0       2576668.0    2292707.0           18296.0  63139605.0  \n",
       "1        98644.0       2047660.0     771258.0            8318.0  13206188.0  \n",
       "2        41638.0       1377384.0     606387.0            8944.0  22149351.0  \n",
       "3        14606.0        676357.0     180931.0            2300.0  29716907.0  \n",
       "4         9604.0        387316.0     141264.0             539.0   3149807.0  \n",
       "..           ...             ...          ...               ...         ...  \n",
       "204          1.0            10.0          2.0               NaN        61.0  \n",
       "205          NaN             7.0          6.0               NaN       424.0  \n",
       "206          NaN            13.0          0.0               NaN      1816.0  \n",
       "207          NaN            12.0          0.0               NaN         NaN  \n",
       "208          1.0             8.0          1.0               NaN         NaN  \n",
       "\n",
       "[209 rows x 9 columns]"
      ]
     },
     "execution_count": 10,
     "metadata": {},
     "output_type": "execute_result"
    }
   ],
   "source": [
    "del(show['Tests/1M pop'])\n",
    "del(show['WHO Region'])\n",
    "del(show['Deaths/1M pop'])\n",
    "del(show['Tot Cases/1M pop'])\n",
    "del(show['NewDeaths'])\n",
    "del(show['NewCases'])\n",
    "del(show['NewRecovered'])\n",
    "show"
   ]
  },
  {
   "cell_type": "markdown",
   "metadata": {},
   "source": [
    "Cambiamos los nombres de las columnas a español para mayor facilidad en la interpretación de los datos "
   ]
  },
  {
   "cell_type": "code",
   "execution_count": 11,
   "metadata": {},
   "outputs": [
    {
     "data": {
      "text/html": [
       "<div>\n",
       "<style scoped>\n",
       "    .dataframe tbody tr th:only-of-type {\n",
       "        vertical-align: middle;\n",
       "    }\n",
       "\n",
       "    .dataframe tbody tr th {\n",
       "        vertical-align: top;\n",
       "    }\n",
       "\n",
       "    .dataframe thead th {\n",
       "        text-align: right;\n",
       "    }\n",
       "</style>\n",
       "<table border=\"1\" class=\"dataframe\">\n",
       "  <thead>\n",
       "    <tr style=\"text-align: right;\">\n",
       "      <th></th>\n",
       "      <th>País</th>\n",
       "      <th>Continente</th>\n",
       "      <th>Población</th>\n",
       "      <th>CasosTotales</th>\n",
       "      <th>MuertesTotales</th>\n",
       "      <th>RecuperadosTotales</th>\n",
       "      <th>CasosActivos</th>\n",
       "      <th>CasosCríticos</th>\n",
       "      <th>TestTotales</th>\n",
       "    </tr>\n",
       "  </thead>\n",
       "  <tbody>\n",
       "    <tr>\n",
       "      <th>0</th>\n",
       "      <td>USA</td>\n",
       "      <td>North America</td>\n",
       "      <td>3.311981e+08</td>\n",
       "      <td>5032179</td>\n",
       "      <td>162804.0</td>\n",
       "      <td>2576668.0</td>\n",
       "      <td>2292707.0</td>\n",
       "      <td>18296.0</td>\n",
       "      <td>63139605.0</td>\n",
       "    </tr>\n",
       "    <tr>\n",
       "      <th>1</th>\n",
       "      <td>Brazil</td>\n",
       "      <td>South America</td>\n",
       "      <td>2.127107e+08</td>\n",
       "      <td>2917562</td>\n",
       "      <td>98644.0</td>\n",
       "      <td>2047660.0</td>\n",
       "      <td>771258.0</td>\n",
       "      <td>8318.0</td>\n",
       "      <td>13206188.0</td>\n",
       "    </tr>\n",
       "    <tr>\n",
       "      <th>2</th>\n",
       "      <td>India</td>\n",
       "      <td>Asia</td>\n",
       "      <td>1.381345e+09</td>\n",
       "      <td>2025409</td>\n",
       "      <td>41638.0</td>\n",
       "      <td>1377384.0</td>\n",
       "      <td>606387.0</td>\n",
       "      <td>8944.0</td>\n",
       "      <td>22149351.0</td>\n",
       "    </tr>\n",
       "    <tr>\n",
       "      <th>3</th>\n",
       "      <td>Russia</td>\n",
       "      <td>Europe</td>\n",
       "      <td>1.459409e+08</td>\n",
       "      <td>871894</td>\n",
       "      <td>14606.0</td>\n",
       "      <td>676357.0</td>\n",
       "      <td>180931.0</td>\n",
       "      <td>2300.0</td>\n",
       "      <td>29716907.0</td>\n",
       "    </tr>\n",
       "    <tr>\n",
       "      <th>4</th>\n",
       "      <td>South Africa</td>\n",
       "      <td>Africa</td>\n",
       "      <td>5.938157e+07</td>\n",
       "      <td>538184</td>\n",
       "      <td>9604.0</td>\n",
       "      <td>387316.0</td>\n",
       "      <td>141264.0</td>\n",
       "      <td>539.0</td>\n",
       "      <td>3149807.0</td>\n",
       "    </tr>\n",
       "    <tr>\n",
       "      <th>...</th>\n",
       "      <td>...</td>\n",
       "      <td>...</td>\n",
       "      <td>...</td>\n",
       "      <td>...</td>\n",
       "      <td>...</td>\n",
       "      <td>...</td>\n",
       "      <td>...</td>\n",
       "      <td>...</td>\n",
       "      <td>...</td>\n",
       "    </tr>\n",
       "    <tr>\n",
       "      <th>204</th>\n",
       "      <td>Montserrat</td>\n",
       "      <td>North America</td>\n",
       "      <td>4.992000e+03</td>\n",
       "      <td>13</td>\n",
       "      <td>1.0</td>\n",
       "      <td>10.0</td>\n",
       "      <td>2.0</td>\n",
       "      <td>NaN</td>\n",
       "      <td>61.0</td>\n",
       "    </tr>\n",
       "    <tr>\n",
       "      <th>205</th>\n",
       "      <td>Caribbean Netherlands</td>\n",
       "      <td>North America</td>\n",
       "      <td>2.624700e+04</td>\n",
       "      <td>13</td>\n",
       "      <td>NaN</td>\n",
       "      <td>7.0</td>\n",
       "      <td>6.0</td>\n",
       "      <td>NaN</td>\n",
       "      <td>424.0</td>\n",
       "    </tr>\n",
       "    <tr>\n",
       "      <th>206</th>\n",
       "      <td>Falkland Islands</td>\n",
       "      <td>South America</td>\n",
       "      <td>3.489000e+03</td>\n",
       "      <td>13</td>\n",
       "      <td>NaN</td>\n",
       "      <td>13.0</td>\n",
       "      <td>0.0</td>\n",
       "      <td>NaN</td>\n",
       "      <td>1816.0</td>\n",
       "    </tr>\n",
       "    <tr>\n",
       "      <th>207</th>\n",
       "      <td>Vatican City</td>\n",
       "      <td>Europe</td>\n",
       "      <td>8.010000e+02</td>\n",
       "      <td>12</td>\n",
       "      <td>NaN</td>\n",
       "      <td>12.0</td>\n",
       "      <td>0.0</td>\n",
       "      <td>NaN</td>\n",
       "      <td>NaN</td>\n",
       "    </tr>\n",
       "    <tr>\n",
       "      <th>208</th>\n",
       "      <td>Western Sahara</td>\n",
       "      <td>Africa</td>\n",
       "      <td>5.986820e+05</td>\n",
       "      <td>10</td>\n",
       "      <td>1.0</td>\n",
       "      <td>8.0</td>\n",
       "      <td>1.0</td>\n",
       "      <td>NaN</td>\n",
       "      <td>NaN</td>\n",
       "    </tr>\n",
       "  </tbody>\n",
       "</table>\n",
       "<p>209 rows × 9 columns</p>\n",
       "</div>"
      ],
      "text/plain": [
       "                      País     Continente     Población  CasosTotales  \\\n",
       "0                      USA  North America  3.311981e+08       5032179   \n",
       "1                   Brazil  South America  2.127107e+08       2917562   \n",
       "2                    India           Asia  1.381345e+09       2025409   \n",
       "3                   Russia         Europe  1.459409e+08        871894   \n",
       "4             South Africa         Africa  5.938157e+07        538184   \n",
       "..                     ...            ...           ...           ...   \n",
       "204             Montserrat  North America  4.992000e+03            13   \n",
       "205  Caribbean Netherlands  North America  2.624700e+04            13   \n",
       "206       Falkland Islands  South America  3.489000e+03            13   \n",
       "207           Vatican City         Europe  8.010000e+02            12   \n",
       "208         Western Sahara         Africa  5.986820e+05            10   \n",
       "\n",
       "     MuertesTotales  RecuperadosTotales  CasosActivos  CasosCríticos  \\\n",
       "0          162804.0           2576668.0     2292707.0        18296.0   \n",
       "1           98644.0           2047660.0      771258.0         8318.0   \n",
       "2           41638.0           1377384.0      606387.0         8944.0   \n",
       "3           14606.0            676357.0      180931.0         2300.0   \n",
       "4            9604.0            387316.0      141264.0          539.0   \n",
       "..              ...                 ...           ...            ...   \n",
       "204             1.0                10.0           2.0            NaN   \n",
       "205             NaN                 7.0           6.0            NaN   \n",
       "206             NaN                13.0           0.0            NaN   \n",
       "207             NaN                12.0           0.0            NaN   \n",
       "208             1.0                 8.0           1.0            NaN   \n",
       "\n",
       "     TestTotales  \n",
       "0     63139605.0  \n",
       "1     13206188.0  \n",
       "2     22149351.0  \n",
       "3     29716907.0  \n",
       "4      3149807.0  \n",
       "..           ...  \n",
       "204         61.0  \n",
       "205        424.0  \n",
       "206       1816.0  \n",
       "207          NaN  \n",
       "208          NaN  \n",
       "\n",
       "[209 rows x 9 columns]"
      ]
     },
     "execution_count": 11,
     "metadata": {},
     "output_type": "execute_result"
    }
   ],
   "source": [
    "show.rename(columns = {'Country/Region':'País','Continent':'Continente','Population':'Población','TotalCases':'CasosTotales','TotalDeaths':'MuertesTotales','TotalRecovered':'RecuperadosTotales','ActiveCases':'CasosActivos','Serious,Critical':'CasosCríticos','TotalTests':'TestTotales'},inplace=True)\n",
    "show"
   ]
  },
  {
   "cell_type": "markdown",
   "metadata": {},
   "source": [
    "Para finalizar, guardamos la nueva base de datos con el nombre de COVID-19"
   ]
  },
  {
   "cell_type": "code",
   "execution_count": 12,
   "metadata": {},
   "outputs": [],
   "source": [
    "show.to_csv(\"COVID-19\",index=False)"
   ]
  },
  {
   "cell_type": "markdown",
   "metadata": {},
   "source": [
    "# Visualizacion de datos"
   ]
  },
  {
   "cell_type": "code",
   "execution_count": 13,
   "metadata": {},
   "outputs": [],
   "source": [
    "import pandas as pd\n",
    "import matplotlib as plt\n",
    "%matplotlib inline\n",
    "import seaborn as sns\n",
    "import matplotlib.pyplot as plt"
   ]
  },
  {
   "cell_type": "code",
   "execution_count": 14,
   "metadata": {},
   "outputs": [],
   "source": [
    "rona=pd.read_csv(\"C:\\\\Users\\\\alber\\\\Jupiter\\\\COVID-19\")"
   ]
  },
  {
   "cell_type": "code",
   "execution_count": 15,
   "metadata": {},
   "outputs": [
    {
     "data": {
      "text/html": [
       "<div>\n",
       "<style scoped>\n",
       "    .dataframe tbody tr th:only-of-type {\n",
       "        vertical-align: middle;\n",
       "    }\n",
       "\n",
       "    .dataframe tbody tr th {\n",
       "        vertical-align: top;\n",
       "    }\n",
       "\n",
       "    .dataframe thead th {\n",
       "        text-align: right;\n",
       "    }\n",
       "</style>\n",
       "<table border=\"1\" class=\"dataframe\">\n",
       "  <thead>\n",
       "    <tr style=\"text-align: right;\">\n",
       "      <th></th>\n",
       "      <th>País</th>\n",
       "      <th>Continente</th>\n",
       "      <th>Población</th>\n",
       "      <th>CasosTotales</th>\n",
       "      <th>MuertesTotales</th>\n",
       "      <th>RecuperadosTotales</th>\n",
       "      <th>CasosActivos</th>\n",
       "      <th>CasosCríticos</th>\n",
       "      <th>TestTotales</th>\n",
       "    </tr>\n",
       "  </thead>\n",
       "  <tbody>\n",
       "    <tr>\n",
       "      <th>0</th>\n",
       "      <td>USA</td>\n",
       "      <td>North America</td>\n",
       "      <td>3.311981e+08</td>\n",
       "      <td>5032179</td>\n",
       "      <td>162804.0</td>\n",
       "      <td>2576668.0</td>\n",
       "      <td>2292707.0</td>\n",
       "      <td>18296.0</td>\n",
       "      <td>63139605.0</td>\n",
       "    </tr>\n",
       "    <tr>\n",
       "      <th>1</th>\n",
       "      <td>Brazil</td>\n",
       "      <td>South America</td>\n",
       "      <td>2.127107e+08</td>\n",
       "      <td>2917562</td>\n",
       "      <td>98644.0</td>\n",
       "      <td>2047660.0</td>\n",
       "      <td>771258.0</td>\n",
       "      <td>8318.0</td>\n",
       "      <td>13206188.0</td>\n",
       "    </tr>\n",
       "    <tr>\n",
       "      <th>2</th>\n",
       "      <td>India</td>\n",
       "      <td>Asia</td>\n",
       "      <td>1.381345e+09</td>\n",
       "      <td>2025409</td>\n",
       "      <td>41638.0</td>\n",
       "      <td>1377384.0</td>\n",
       "      <td>606387.0</td>\n",
       "      <td>8944.0</td>\n",
       "      <td>22149351.0</td>\n",
       "    </tr>\n",
       "    <tr>\n",
       "      <th>3</th>\n",
       "      <td>Russia</td>\n",
       "      <td>Europe</td>\n",
       "      <td>1.459409e+08</td>\n",
       "      <td>871894</td>\n",
       "      <td>14606.0</td>\n",
       "      <td>676357.0</td>\n",
       "      <td>180931.0</td>\n",
       "      <td>2300.0</td>\n",
       "      <td>29716907.0</td>\n",
       "    </tr>\n",
       "    <tr>\n",
       "      <th>4</th>\n",
       "      <td>South Africa</td>\n",
       "      <td>Africa</td>\n",
       "      <td>5.938157e+07</td>\n",
       "      <td>538184</td>\n",
       "      <td>9604.0</td>\n",
       "      <td>387316.0</td>\n",
       "      <td>141264.0</td>\n",
       "      <td>539.0</td>\n",
       "      <td>3149807.0</td>\n",
       "    </tr>\n",
       "    <tr>\n",
       "      <th>...</th>\n",
       "      <td>...</td>\n",
       "      <td>...</td>\n",
       "      <td>...</td>\n",
       "      <td>...</td>\n",
       "      <td>...</td>\n",
       "      <td>...</td>\n",
       "      <td>...</td>\n",
       "      <td>...</td>\n",
       "      <td>...</td>\n",
       "    </tr>\n",
       "    <tr>\n",
       "      <th>204</th>\n",
       "      <td>Montserrat</td>\n",
       "      <td>North America</td>\n",
       "      <td>4.992000e+03</td>\n",
       "      <td>13</td>\n",
       "      <td>1.0</td>\n",
       "      <td>10.0</td>\n",
       "      <td>2.0</td>\n",
       "      <td>NaN</td>\n",
       "      <td>61.0</td>\n",
       "    </tr>\n",
       "    <tr>\n",
       "      <th>205</th>\n",
       "      <td>Caribbean Netherlands</td>\n",
       "      <td>North America</td>\n",
       "      <td>2.624700e+04</td>\n",
       "      <td>13</td>\n",
       "      <td>NaN</td>\n",
       "      <td>7.0</td>\n",
       "      <td>6.0</td>\n",
       "      <td>NaN</td>\n",
       "      <td>424.0</td>\n",
       "    </tr>\n",
       "    <tr>\n",
       "      <th>206</th>\n",
       "      <td>Falkland Islands</td>\n",
       "      <td>South America</td>\n",
       "      <td>3.489000e+03</td>\n",
       "      <td>13</td>\n",
       "      <td>NaN</td>\n",
       "      <td>13.0</td>\n",
       "      <td>0.0</td>\n",
       "      <td>NaN</td>\n",
       "      <td>1816.0</td>\n",
       "    </tr>\n",
       "    <tr>\n",
       "      <th>207</th>\n",
       "      <td>Vatican City</td>\n",
       "      <td>Europe</td>\n",
       "      <td>8.010000e+02</td>\n",
       "      <td>12</td>\n",
       "      <td>NaN</td>\n",
       "      <td>12.0</td>\n",
       "      <td>0.0</td>\n",
       "      <td>NaN</td>\n",
       "      <td>NaN</td>\n",
       "    </tr>\n",
       "    <tr>\n",
       "      <th>208</th>\n",
       "      <td>Western Sahara</td>\n",
       "      <td>Africa</td>\n",
       "      <td>5.986820e+05</td>\n",
       "      <td>10</td>\n",
       "      <td>1.0</td>\n",
       "      <td>8.0</td>\n",
       "      <td>1.0</td>\n",
       "      <td>NaN</td>\n",
       "      <td>NaN</td>\n",
       "    </tr>\n",
       "  </tbody>\n",
       "</table>\n",
       "<p>209 rows × 9 columns</p>\n",
       "</div>"
      ],
      "text/plain": [
       "                      País     Continente     Población  CasosTotales  \\\n",
       "0                      USA  North America  3.311981e+08       5032179   \n",
       "1                   Brazil  South America  2.127107e+08       2917562   \n",
       "2                    India           Asia  1.381345e+09       2025409   \n",
       "3                   Russia         Europe  1.459409e+08        871894   \n",
       "4             South Africa         Africa  5.938157e+07        538184   \n",
       "..                     ...            ...           ...           ...   \n",
       "204             Montserrat  North America  4.992000e+03            13   \n",
       "205  Caribbean Netherlands  North America  2.624700e+04            13   \n",
       "206       Falkland Islands  South America  3.489000e+03            13   \n",
       "207           Vatican City         Europe  8.010000e+02            12   \n",
       "208         Western Sahara         Africa  5.986820e+05            10   \n",
       "\n",
       "     MuertesTotales  RecuperadosTotales  CasosActivos  CasosCríticos  \\\n",
       "0          162804.0           2576668.0     2292707.0        18296.0   \n",
       "1           98644.0           2047660.0      771258.0         8318.0   \n",
       "2           41638.0           1377384.0      606387.0         8944.0   \n",
       "3           14606.0            676357.0      180931.0         2300.0   \n",
       "4            9604.0            387316.0      141264.0          539.0   \n",
       "..              ...                 ...           ...            ...   \n",
       "204             1.0                10.0           2.0            NaN   \n",
       "205             NaN                 7.0           6.0            NaN   \n",
       "206             NaN                13.0           0.0            NaN   \n",
       "207             NaN                12.0           0.0            NaN   \n",
       "208             1.0                 8.0           1.0            NaN   \n",
       "\n",
       "     TestTotales  \n",
       "0     63139605.0  \n",
       "1     13206188.0  \n",
       "2     22149351.0  \n",
       "3     29716907.0  \n",
       "4      3149807.0  \n",
       "..           ...  \n",
       "204         61.0  \n",
       "205        424.0  \n",
       "206       1816.0  \n",
       "207          NaN  \n",
       "208          NaN  \n",
       "\n",
       "[209 rows x 9 columns]"
      ]
     },
     "execution_count": 15,
     "metadata": {},
     "output_type": "execute_result"
    }
   ],
   "source": [
    "rona"
   ]
  },
  {
   "cell_type": "markdown",
   "metadata": {},
   "source": [
    "## Información estadística"
   ]
  },
  {
   "cell_type": "markdown",
   "metadata": {},
   "source": [
    "### Poblacion mundial estimada"
   ]
  },
  {
   "cell_type": "code",
   "execution_count": 16,
   "metadata": {},
   "outputs": [
    {
     "data": {
      "text/plain": [
       "6326421290.0"
      ]
     },
     "execution_count": 16,
     "metadata": {},
     "output_type": "execute_result"
    }
   ],
   "source": [
    "rona['Población'].sum()"
   ]
  },
  {
   "cell_type": "markdown",
   "metadata": {},
   "source": [
    "La estimación del total de la población mundial nos va a ser de mucha utilidad para poder compararla con los otros índices que calcularemos y poder sacar porcentajes de distintos rubros como por ejemplo que porcentaje de la población mundial ha sido contagiada por Covid-19, cuantos de estos se recuperaron, cuantos de estos fallecieron, etc. En general esta estimación es necesaria para poder obtener todos los índices que buscamos descubrir."
   ]
  },
  {
   "cell_type": "markdown",
   "metadata": {},
   "source": [
    "### Suma de fallecimientos"
   ]
  },
  {
   "cell_type": "code",
   "execution_count": 17,
   "metadata": {},
   "outputs": [
    {
     "data": {
      "text/plain": [
       "713007.0"
      ]
     },
     "execution_count": 17,
     "metadata": {},
     "output_type": "execute_result"
    }
   ],
   "source": [
    "rona['MuertesTotales'].sum()"
   ]
  },
  {
   "cell_type": "markdown",
   "metadata": {},
   "source": [
    " La suma de todos los fallecimientos por Covid-19 a nivel mundial es un dato que es fundamental para nuestra investigación ya que este calculo nos ayudara a darnos cuenta de que tan fuerte ha sido el impacto que nos ha ocasionado esta enfermedad a nivel mundial en términos cuantitativos. En conjunto con la estimación de la población mundial, nos permitirá saber una estimación del porcentaje de humanos del mundo que han fallecido por Covid-19."
   ]
  },
  {
   "cell_type": "markdown",
   "metadata": {},
   "source": [
    "### Promedio de contagios (por region)"
   ]
  },
  {
   "cell_type": "code",
   "execution_count": 18,
   "metadata": {},
   "outputs": [
    {
     "data": {
      "text/plain": [
       "91718.4976076555"
      ]
     },
     "execution_count": 18,
     "metadata": {},
     "output_type": "execute_result"
    }
   ],
   "source": [
    "rona['CasosTotales'].mean()"
   ]
  },
  {
   "cell_type": "markdown",
   "metadata": {},
   "source": [
    "El cálculo del promedio de contagios de Covid-19 a nivel de países es un índice muy interesante para nuestra investigación ya que con este dato podremos hacer todo tipo de comparaciones de suma importancia que nos ayudaran a generar información de en qué países ha sido más duro el impacto de este virus, nos interesa visualizar que países están por debajo o por encima de la media de contagios y que tan lejos o cerca se encuentran de ese rubro."
   ]
  },
  {
   "cell_type": "markdown",
   "metadata": {},
   "source": [
    "### Promedio de las pruebas aplicadas (por región)"
   ]
  },
  {
   "cell_type": "code",
   "execution_count": 19,
   "metadata": {},
   "outputs": [
    {
     "data": {
      "text/plain": [
       "91718.4976076555"
      ]
     },
     "execution_count": 19,
     "metadata": {},
     "output_type": "execute_result"
    }
   ],
   "source": [
    "rona['CasosTotales'].mean()"
   ]
  },
  {
   "cell_type": "markdown",
   "metadata": {},
   "source": [
    "Es importante calcular un rubro que nos indique cual es el promedio de los test totales en los países. Este es un dato que nos interesa saber para darnos cuenta de que tanto varían las pruebas de Covid-19 en los países. Es de relevancia para visualizar si el bajo numero de contagios en algunos países puede deberse a falta de pruebas de la enfermedad."
   ]
  },
  {
   "cell_type": "markdown",
   "metadata": {},
   "source": [
    "### Cantidad máxima y minima de descesos de una region"
   ]
  },
  {
   "cell_type": "code",
   "execution_count": 20,
   "metadata": {},
   "outputs": [
    {
     "data": {
      "text/plain": [
       "162804.0"
      ]
     },
     "execution_count": 20,
     "metadata": {},
     "output_type": "execute_result"
    }
   ],
   "source": [
    "rona['MuertesTotales'].max()"
   ]
  },
  {
   "cell_type": "code",
   "execution_count": 21,
   "metadata": {},
   "outputs": [
    {
     "data": {
      "text/plain": [
       "1.0"
      ]
     },
     "execution_count": 21,
     "metadata": {},
     "output_type": "execute_result"
    }
   ],
   "source": [
    "rona['MuertesTotales'].min()"
   ]
  },
  {
   "cell_type": "markdown",
   "metadata": {},
   "source": [
    "El índice de máximo y mínimo lo utilizaremos en la columna de muertes totales por el virus Covid-19. Nos interesa calcular este rubro para darnos cuenta de cuanta diferencia existe entre el país que tiene mas muertes y el país que tiene menos muertes causadas por esta enfermedad. Este contraste nos parece muy interesante para poder visualizar que tan variado ha sido el impacto en distintos países del mundo."
   ]
  },
  {
   "cell_type": "markdown",
   "metadata": {},
   "source": [
    "## Información gráfica"
   ]
  },
  {
   "cell_type": "markdown",
   "metadata": {},
   "source": [
    "### Ratio de casos-muertes"
   ]
  },
  {
   "cell_type": "code",
   "execution_count": 22,
   "metadata": {},
   "outputs": [
    {
     "data": {
      "text/plain": [
       "<AxesSubplot:xlabel='CasosTotales', ylabel='MuertesTotales'>"
      ]
     },
     "execution_count": 22,
     "metadata": {},
     "output_type": "execute_result"
    },
    {
     "data": {
      "image/png": "[encoded data removed]",
      "text/plain": [
       "<Figure size 432x288 with 1 Axes>"
      ]
     },
     "metadata": {
      "needs_background": "light"
     },
     "output_type": "display_data"
    }
   ],
   "source": [
    "rona.plot.scatter(x='CasosTotales', y='MuertesTotales', color='orange')"
   ]
  },
  {
   "cell_type": "code",
   "execution_count": 23,
   "metadata": {},
   "outputs": [
    {
     "data": {
      "text/plain": [
       "<AxesSubplot:xlabel='CasosTotales', ylabel='MuertesTotales'>"
      ]
     },
     "execution_count": 23,
     "metadata": {},
     "output_type": "execute_result"
    },
    {
     "data": {
      "image/png": "[encoded data removed]",
      "text/plain": [
       "<Figure size 432x288 with 1 Axes>"
      ]
     },
     "metadata": {
      "needs_background": "light"
     },
     "output_type": "display_data"
    }
   ],
   "source": [
    "rona[rona['CasosTotales']<15000].plot.scatter(x='CasosTotales', y='MuertesTotales',color='orange')"
   ]
  },
  {
   "cell_type": "markdown",
   "metadata": {},
   "source": [
    "En la gráfica anterior podemos visualizar el ratio de la relación de las muertes totales con respecto a los casos totales en los distintos países. Esto nos es de utilidad para ver el comportamiento de los países y determinar si la mayoría tienen un comportamiento similar o si el ratio es muy variado. Podemos apreciar que la mayoría de los datos están muy concentrados en la parte inferior izquierda, esto indica pocos contagios y pocas muertes, después se observan 3 datos aislados que se encuentran con tendencia hacia la esquina superior derecha, indicando más contagios y más muertes. Se puede apreciar que el ratio es similar en la mayoría de los países, solo hay algunos que si tienen un ratio mas preocupante con una tendencia mas alta en las muertes y mas baja en los casos."
   ]
  },
  {
   "cell_type": "markdown",
   "metadata": {},
   "source": [
    "### Recuperados de acuerdo al continente"
   ]
  },
  {
   "cell_type": "code",
   "execution_count": 24,
   "metadata": {},
   "outputs": [
    {
     "data": {
      "text/plain": [
       "<AxesSubplot:xlabel='Continente', ylabel='RecuperadosTotales'>"
      ]
     },
     "execution_count": 24,
     "metadata": {},
     "output_type": "execute_result"
    },
    {
     "data": {
      "image/png": "[encoded data removed]",
      "text/plain": [
       "<Figure size 432x288 with 1 Axes>"
      ]
     },
     "metadata": {
      "needs_background": "light"
     },
     "output_type": "display_data"
    }
   ],
   "source": [
    "sns.boxplot(x='Continente', y='RecuperadosTotales', data=rona)"
   ]
  },
  {
   "cell_type": "markdown",
   "metadata": {},
   "source": [
    "Este tipo de gráfico es muy importante ya que refleja muy bien la dispersión de datos, lo que nos permite ver a profundidad, en este caso por continente, en cuales de estos se han recuperado más infectados por el virus y esto nos puede dar una idea de como se están manejando los tratamientos médicos y que tan efectivos son en las regiones globalmente"
   ]
  },
  {
   "cell_type": "markdown",
   "metadata": {},
   "source": [
    "### Cantidad de regiones con casos críticos menores a 100"
   ]
  },
  {
   "cell_type": "code",
   "execution_count": 25,
   "metadata": {},
   "outputs": [
    {
     "data": {
      "text/plain": [
       "<AxesSubplot:ylabel='Frequency'>"
      ]
     },
     "execution_count": 25,
     "metadata": {},
     "output_type": "execute_result"
    },
    {
     "data": {
      "image/png": "[encoded data removed]",
      "text/plain": [
       "<Figure size 432x288 with 1 Axes>"
      ]
     },
     "metadata": {
      "needs_background": "light"
     },
     "output_type": "display_data"
    }
   ],
   "source": [
    "rona[rona['CasosCríticos']<100]['CasosCríticos'].plot.hist(color='orange')"
   ]
  },
  {
   "cell_type": "markdown",
   "metadata": {},
   "source": [
    "En la grafica anterior se muestran la cantidad de regiones con tienen menos de 100 casos críticos, lo primero que podemos apreciar es que aproximadamente la mitad de las regiones que estamos investigando entran en el criterio de menos de 100 casos críticos. Posteriormente analizando este segmento, vemos que, de las regiones con menos de 100 casos críticos, la gran mayoría cuenta con 0 casos críticos. Esto nos indica que si una región tiene menos de 100 casos críticos lo mas probable es que esta región no cuente con ningún caso crítico."
   ]
  },
  {
   "cell_type": "markdown",
   "metadata": {},
   "source": [
    "### Gráficas de contagios, muertes y pruebas aplicadas de las 10 regiones con mas contagios"
   ]
  },
  {
   "cell_type": "code",
   "execution_count": 26,
   "metadata": {},
   "outputs": [
    {
     "data": {
      "text/plain": [
       "<AxesSubplot:xlabel='País'>"
      ]
     },
     "execution_count": 26,
     "metadata": {},
     "output_type": "execute_result"
    },
    {
     "data": {
      "image/png": "[encoded data removed]",
      "text/plain": [
       "<Figure size 432x288 with 1 Axes>"
      ]
     },
     "metadata": {
      "needs_background": "light"
     },
     "output_type": "display_data"
    }
   ],
   "source": [
    "rona.head(10).plot.bar(x='País', y='CasosTotales', color='yellow')"
   ]
  },
  {
   "cell_type": "code",
   "execution_count": 27,
   "metadata": {},
   "outputs": [
    {
     "data": {
      "text/plain": [
       "<AxesSubplot:xlabel='País'>"
      ]
     },
     "execution_count": 27,
     "metadata": {},
     "output_type": "execute_result"
    },
    {
     "data": {
      "image/png": "[encoded data removed]",
      "text/plain": [
       "<Figure size 432x288 with 1 Axes>"
      ]
     },
     "metadata": {
      "needs_background": "light"
     },
     "output_type": "display_data"
    }
   ],
   "source": [
    "rona.head(10).plot.bar(x='País', y='MuertesTotales', color='red')"
   ]
  },
  {
   "cell_type": "code",
   "execution_count": 28,
   "metadata": {},
   "outputs": [
    {
     "data": {
      "text/plain": [
       "<AxesSubplot:xlabel='País'>"
      ]
     },
     "execution_count": 28,
     "metadata": {},
     "output_type": "execute_result"
    },
    {
     "data": {
      "image/png": "[encoded data removed]",
      "text/plain": [
       "<Figure size 432x288 with 1 Axes>"
      ]
     },
     "metadata": {
      "needs_background": "light"
     },
     "output_type": "display_data"
    }
   ],
   "source": [
    "rona.head(10).plot.bar(x='País', y='TestTotales', color='blue')"
   ]
  },
  {
   "cell_type": "markdown",
   "metadata": {},
   "source": [
    "En las graficas podemos observar los contagios, las muertes y las pruebas aplicadas de las 10 regiones con mas contagios. Lo más lógico es pensar que en los países donde se realizan más pruebas, habrá mas contagios y por consecuente mas muertes, esto aplica también en el sentido opuesto. Y esto es cierto en muchos casos, como por ejemplo EUA, es el país mas alto en los 3 rubros, pero hay algunas excepciones, por ejemplo, de los 10 países el que tiene menos contagios es España sin embargo es el país numero 5 con menos muertes cuando lo lógico seria pensar que seria el primero. También un caso raro es el de México ya que es el tercer país con mas muertes mas sin embargo es el sexto con más contagios y es de los más bajos en pruebas realizadas, esta es una situación para destacar ya que es muy rara. En general estas 3 graficas son muy importantes para este tipo de análisis, revisar que países de este top 10 se comportan de manera usual y cuales se comportan de manera inusual."
   ]
  },
  {
   "cell_type": "markdown",
   "metadata": {},
   "source": [
    "### Gráficas de contagios, muertes y pruebas aplicadas de las 10 regiones con menos contagios"
   ]
  },
  {
   "cell_type": "code",
   "execution_count": 29,
   "metadata": {},
   "outputs": [
    {
     "data": {
      "text/plain": [
       "<AxesSubplot:xlabel='País'>"
      ]
     },
     "execution_count": 29,
     "metadata": {},
     "output_type": "execute_result"
    },
    {
     "data": {
      "image/png": "[encoded data removed]",
      "text/plain": [
       "<Figure size 432x288 with 1 Axes>"
      ]
     },
     "metadata": {
      "needs_background": "light"
     },
     "output_type": "display_data"
    }
   ],
   "source": [
    "rona.tail(10).plot.bar(x='País', y='CasosTotales', color='yellow')"
   ]
  },
  {
   "cell_type": "code",
   "execution_count": 30,
   "metadata": {},
   "outputs": [
    {
     "data": {
      "text/plain": [
       "<AxesSubplot:xlabel='País'>"
      ]
     },
     "execution_count": 30,
     "metadata": {},
     "output_type": "execute_result"
    },
    {
     "data": {
      "image/png": "[encoded data removed]",
      "text/plain": [
       "<Figure size 432x288 with 1 Axes>"
      ]
     },
     "metadata": {
      "needs_background": "light"
     },
     "output_type": "display_data"
    }
   ],
   "source": [
    "rona.tail(10).plot.bar(x='País', y='MuertesTotales', color='red')"
   ]
  },
  {
   "cell_type": "code",
   "execution_count": 31,
   "metadata": {},
   "outputs": [
    {
     "data": {
      "text/plain": [
       "<AxesSubplot:xlabel='País'>"
      ]
     },
     "execution_count": 31,
     "metadata": {},
     "output_type": "execute_result"
    },
    {
     "data": {
      "image/png": "[encoded data removed]",
      "text/plain": [
       "<Figure size 432x288 with 1 Axes>"
      ]
     },
     "metadata": {
      "needs_background": "light"
     },
     "output_type": "display_data"
    }
   ],
   "source": [
    "rona.tail(10).plot.bar(x='País', y='TestTotales', color='blue')"
   ]
  },
  {
   "cell_type": "markdown",
   "metadata": {},
   "source": [
    "Las anteriores 3 graficas son las muertes, contagios y pruebas realizadas del top 10 de países con menos contagios de Covid-19. Se aprecia que la región con menos contagios es Western Sahara sin embargo cuenta con una muerte por Covid-19 y esto es raro porque solo esta región y una mas cuentan con fallecidos en este top 10. También podemos observar que los 2 países con mas contagios son los 2 países que más pruebas realizan, este es un resultado usual. La mayoría de las otras regiones de este top casi no realizan ninguna prueba para detectar el contagio de Covid-19, esta puede ser la causa de los pocos contagios en estas regiones."
   ]
  },
  {
   "cell_type": "markdown",
   "metadata": {},
   "source": [
    "## Conclusión "
   ]
  },
  {
   "cell_type": "markdown",
   "metadata": {},
   "source": [
    "Lo primero fue determinar los índices que consideramos mas importantes para hacer los cálculos de la información que a nuestro criterio reflejaría lo que buscamos mostrar con nuestra base de datos. Los índices que calculamos fue la estimación de la población mundial, la suma de todos los fallecimientos por Covid-19 a nivel mundial, el calculo del promedio de contagios de Covid-19 a nivel de países, el índice de máximo y mínimo en el numero de muertes por Covid-19 en los países y el ultimo índice que calculamos fue el del promedio de las pruebas realizadas en los países. Todos estos cálculos van a ser de suma importancia en nuestra investigación para poder reflejar con porcentajes los puntos mas importantes del impacto que ha tenido el Covid-19 en nuestro planeta. Por ejemplo, el porcentaje de la población que se ha contagiado, cuantos se repusieron, cuantos fallecieron. También podremos visualizar cuantos países se encuentran por encima o por debajo de la media de contagios por país, que país tiene más y menos muertes y que tanta distancia hay entre estos 2, que países se encuentran por debajo o por encima de la media de pruebas realizadas. En general estos datos que para nosotros fueron los mas importantes nos van a servir para mostrar la información mas relevante de esta enfermedad. Posteriormente hicimos diversas graficas para visualizar de mejor manera distintos rubros que nos llamaron la atención como la comparación de contagios, muertes y pruebas realizadas del top 10 de países con mas contagios y el top 10 de países con menos contagios. De igual manera hicimos una grafica de la cantidad de regiones con menos de 100 casos críticos y por último hicimos un gráfico para mostrar la dispersión que existe en el numero de gente que se ha recuperado del Covid-19 por continente. A nuestro criterio estas graficas en conjunto con los índices que calculamos anteriormente, serán la clave para llegar al fondo de nuestra investigación y mostrar de la mejor manera posible toda la información que hemos recabado a lo largo de este tiempo y que el lector puede entender los puntos mas claves del impacto que ha tenido este enfermedad en la vida de todos nosotros y del mundo entero."
   ]
  },
  {
   "cell_type": "code",
   "execution_count": null,
   "metadata": {},
   "outputs": [],
   "source": []
  }
 ],
 "metadata": {
  "kernelspec": {
   "display_name": "Python 3",
   "language": "python",
   "name": "python3"
  },
  "language_info": {
   "codemirror_mode": {
    "name": "ipython",
    "version": 3
   },
   "file_extension": ".py",
   "mimetype": "text/x-python",
   "name": "python",
   "nbconvert_exporter": "python",
   "pygments_lexer": "ipython3",
   "version": "3.8.5"
  }
 },
 "nbformat": 4,
 "nbformat_minor": 4
}
